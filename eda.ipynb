{
 "cells": [
  {
   "cell_type": "code",
   "execution_count": 1,
   "id": "ebd7d73e",
   "metadata": {},
   "outputs": [],
   "source": [
    "import pandas as pd"
   ]
  },
  {
   "cell_type": "code",
   "execution_count": 48,
   "id": "01341448",
   "metadata": {},
   "outputs": [],
   "source": [
    "df=pd.read_csv(\"Train_data_v2.csv\")\n",
    "test_df = pd.read_csv(\"Train_data_v2.csv\")"
   ]
  },
  {
   "cell_type": "code",
   "execution_count": 49,
   "id": "dfdb8f1b",
   "metadata": {},
   "outputs": [],
   "source": [
    "df=df.drop([\"FarmerID\",\"Zipcode\",\"Location\",\"Address type\"], axis=\"columns\")\n",
    "test_df=test_df.drop([\"FarmerID\",\"Zipcode\",\"Location\",\"Address type\"], axis=\"columns\")"
   ]
  },
  {
   "cell_type": "code",
   "execution_count": 4,
   "id": "37306a4e",
   "metadata": {},
   "outputs": [
    {
     "data": {
      "application/vnd.microsoft.datawrangler.viewer.v0+json": {
       "columns": [
        {
         "name": "index",
         "rawType": "int64",
         "type": "integer"
        },
        {
         "name": "State",
         "rawType": "object",
         "type": "string"
        },
        {
         "name": "REGION",
         "rawType": "object",
         "type": "string"
        },
        {
         "name": "SEX",
         "rawType": "object",
         "type": "string"
        },
        {
         "name": "CITY",
         "rawType": "object",
         "type": "string"
        },
        {
         "name": "DISTRICT",
         "rawType": "object",
         "type": "string"
        },
        {
         "name": "VILLAGE",
         "rawType": "object",
         "type": "string"
        },
        {
         "name": "MARITAL_STATUS",
         "rawType": "object",
         "type": "string"
        },
        {
         "name": "Ownership",
         "rawType": "object",
         "type": "unknown"
        },
        {
         "name": "No_of_Active_Loan_In_Bureau",
         "rawType": "int64",
         "type": "integer"
        },
        {
         "name": "Avg_Disbursement_Amount_Bureau",
         "rawType": "float64",
         "type": "float"
        },
        {
         "name": "Non_Agriculture_Income",
         "rawType": "float64",
         "type": "float"
        },
        {
         "name": "Total_Land_For_Agriculture",
         "rawType": "float64",
         "type": "float"
        },
        {
         "name": "K022-Village category based on Agri parameters (Good, Average, Poor)",
         "rawType": "object",
         "type": "string"
        },
        {
         "name": "K022-Nearest Mandi Name",
         "rawType": "object",
         "type": "string"
        },
        {
         "name": "K022-Proximity to nearest mandi (Km)",
         "rawType": "float64",
         "type": "float"
        },
        {
         "name": "K022-Proximity to nearest railway (Km)",
         "rawType": "float64",
         "type": "float"
        },
        {
         "name": "KO22-Village score based on socio-economic parameters (0 to 100)",
         "rawType": "float64",
         "type": "float"
        },
        {
         "name": "K022-Village category based on socio-economic parameters (Good, Average, Poor)",
         "rawType": "object",
         "type": "string"
        },
        {
         "name": "K022-Seasonal Average Rainfall (mm)",
         "rawType": "float64",
         "type": "float"
        },
        {
         "name": "K022-Ambient temperature (min & max)",
         "rawType": "object",
         "type": "string"
        },
        {
         "name": "R022-Village category based on Agri parameters (Good, Average, Poor)",
         "rawType": "object",
         "type": "string"
        },
        {
         "name": "R022-Seasonal Average Rainfall (mm)",
         "rawType": "float64",
         "type": "float"
        },
        {
         "name": "R022-Ambient temperature (min & max)",
         "rawType": "object",
         "type": "string"
        },
        {
         "name": "K021-Seasonal Average Rainfall (mm)",
         "rawType": "float64",
         "type": "float"
        },
        {
         "name": "K021-Ambient temperature (min & max)",
         "rawType": "object",
         "type": "string"
        },
        {
         "name": "R021-Seasonal Average Rainfall (mm)",
         "rawType": "float64",
         "type": "float"
        },
        {
         "name": "R021-Ambient temperature (min & max)",
         "rawType": "object",
         "type": "string"
        },
        {
         "name": "R020-Seasonal Average Rainfall (mm)",
         "rawType": "float64",
         "type": "float"
        },
        {
         "name": "R020-Ambient temperature (min & max)",
         "rawType": "object",
         "type": "string"
        },
        {
         "name": "Perc_of_house_with_6plus_room",
         "rawType": "float64",
         "type": "float"
        },
        {
         "name": "Women_15_19_Mothers_or_Pregnant_at_time_of_survey",
         "rawType": "float64",
         "type": "float"
        },
        {
         "name": "perc_of_pop_living_in_hh_electricity",
         "rawType": "float64",
         "type": "float"
        },
        {
         "name": "perc_Households_with_Pucca_House_That_Has_More_Than_3_Rooms",
         "rawType": "float64",
         "type": "float"
        },
        {
         "name": "mat_roof_Metal_GI_Asbestos_sheets",
         "rawType": "float64",
         "type": "float"
        },
        {
         "name": "perc_of_Wall_material_with_Burnt_brick",
         "rawType": "float64",
         "type": "float"
        },
        {
         "name": "Households_with_improved_Sanitation_Facility",
         "rawType": "float64",
         "type": "float"
        },
        {
         "name": "perc_Households_do_not_have_KCC_With_The_Credit_Limit_Of_50k",
         "rawType": "float64",
         "type": "float"
        },
        {
         "name": "K022-Total Geographical Area (in Hectares)-",
         "rawType": "float64",
         "type": "float"
        },
        {
         "name": "K022-Net Agri area (in Ha)-",
         "rawType": "float64",
         "type": "float"
        },
        {
         "name": "K022-Net Agri area (% of total geog area)-",
         "rawType": "float64",
         "type": "float"
        },
        {
         "name": "Kharif Seasons  Irrigated area in 2022",
         "rawType": "float64",
         "type": "float"
        },
        {
         "name": "Kharif Seasons  Cropping density in 2022",
         "rawType": "float64",
         "type": "float"
        },
        {
         "name": "Kharif Seasons  Agricultural performance in 2022",
         "rawType": "float64",
         "type": "float"
        },
        {
         "name": "Kharif Seasons  Agricultural Score in 2022",
         "rawType": "float64",
         "type": "float"
        },
        {
         "name": "Kharif Seasons  Type of soil in 2022",
         "rawType": "object",
         "type": "string"
        },
        {
         "name": "Kharif Seasons  Type of water bodies in hectares 2022",
         "rawType": "object",
         "type": "string"
        },
        {
         "name": "Kharif Seasons  Agro Ecological Sub Zone in 2022",
         "rawType": "object",
         "type": "string"
        },
        {
         "name": "Kharif Seasons  Seasonal average groundwater thickness (cm) in 2022",
         "rawType": "float64",
         "type": "float"
        },
        {
         "name": "Kharif Seasons  Seasonal average groundwater replenishment rate (cm) in 2022",
         "rawType": "float64",
         "type": "float"
        },
        {
         "name": "Rabi Seasons  Season Irrigated area in 2022",
         "rawType": "float64",
         "type": "float"
        },
        {
         "name": "Rabi Seasons Cropping density in 2022",
         "rawType": "float64",
         "type": "float"
        },
        {
         "name": "Rabi Seasons Agricultural performance in 2022",
         "rawType": "float64",
         "type": "float"
        },
        {
         "name": "Rabi Seasons Agricultural Score in 2022",
         "rawType": "float64",
         "type": "float"
        },
        {
         "name": "Rabi Seasons Type of soil in 2022",
         "rawType": "object",
         "type": "string"
        },
        {
         "name": "Rabi Seasons Type of water bodies in hectares 2022",
         "rawType": "object",
         "type": "string"
        },
        {
         "name": "Rabi Seasons Agro Ecological Sub Zone in 2022",
         "rawType": "object",
         "type": "string"
        },
        {
         "name": "Rabi Seasons Seasonal average groundwater thickness (cm) in 2022",
         "rawType": "float64",
         "type": "float"
        },
        {
         "name": "Rabi Seasons Seasonal average groundwater replenishment rate (cm) in 2022",
         "rawType": "float64",
         "type": "float"
        },
        {
         "name": "Rabi Seasons Kharif Season Irrigated area in 2021",
         "rawType": "float64",
         "type": "float"
        },
        {
         "name": "Rabi Seasons Cropping density in 2021",
         "rawType": "float64",
         "type": "float"
        },
        {
         "name": "Rabi Seasons Agricultural performance in 2021",
         "rawType": "float64",
         "type": "float"
        },
        {
         "name": "Rabi Seasons Agricultural Score in 2021",
         "rawType": "float64",
         "type": "float"
        },
        {
         "name": "Rabi Seasons Type of soil in 2021",
         "rawType": "object",
         "type": "string"
        },
        {
         "name": "Rabi Seasons Type of water bodies in hectares 2021",
         "rawType": "object",
         "type": "string"
        },
        {
         "name": "Rabi Seasons Agro Ecological Sub Zone in 2021",
         "rawType": "object",
         "type": "string"
        },
        {
         "name": "Rabi Seasons Seasonal average groundwater thickness (cm) in 2021",
         "rawType": "float64",
         "type": "float"
        },
        {
         "name": "Rabi Seasons Seasonal average groundwater replenishment rate (cm) in 2021",
         "rawType": "float64",
         "type": "float"
        },
        {
         "name": "Kharif Seasons Kharif Season Irrigated area in 2021",
         "rawType": "float64",
         "type": "float"
        },
        {
         "name": "Kharif Seasons Cropping density in 2021",
         "rawType": "float64",
         "type": "float"
        },
        {
         "name": "Kharif Seasons Agricultural performance in 2021",
         "rawType": "float64",
         "type": "float"
        },
        {
         "name": "Kharif Seasons Agricultural Score in 2021",
         "rawType": "float64",
         "type": "float"
        },
        {
         "name": "Kharif Seasons Type of soil in 2021",
         "rawType": "object",
         "type": "string"
        },
        {
         "name": "Kharif Seasons Type of water bodies in hectares 2021",
         "rawType": "object",
         "type": "string"
        },
        {
         "name": "Kharif Seasons Agro Ecological Sub Zone in 2021",
         "rawType": "object",
         "type": "string"
        },
        {
         "name": "Kharif Seasons Seasonal average groundwater thickness (cm) in 2021",
         "rawType": "float64",
         "type": "float"
        },
        {
         "name": "Kharif Seasons Seasonal average groundwater replenishment rate (cm) in 2021",
         "rawType": "float64",
         "type": "float"
        },
        {
         "name": "Kharif Seasons Kharif Season Irrigated area in 2020",
         "rawType": "float64",
         "type": "float"
        },
        {
         "name": "Kharif Seasons Cropping density in 2020",
         "rawType": "float64",
         "type": "float"
        },
        {
         "name": "Kharif Seasons Agricultural performance in 2020",
         "rawType": "float64",
         "type": "float"
        },
        {
         "name": "Kharif Seasons Agricultural Score in 2020",
         "rawType": "float64",
         "type": "float"
        },
        {
         "name": "Kharif Seasons Type of soil in 2020",
         "rawType": "object",
         "type": "string"
        },
        {
         "name": "Kharif Seasons Type of water bodies in hectares 2020",
         "rawType": "object",
         "type": "string"
        },
        {
         "name": "Kharif Seasons Agro Ecological Sub Zone in 2020",
         "rawType": "object",
         "type": "string"
        },
        {
         "name": "Kharif Seasons Seasonal average groundwater thickness (cm) in 2020",
         "rawType": "float64",
         "type": "float"
        },
        {
         "name": "Kharif Seasons Seasonal average groundwater replenishment rate (cm) in 2020",
         "rawType": "float64",
         "type": "float"
        },
        {
         "name": "Rabi Seasons Kharif Season Irrigated area in 2020",
         "rawType": "float64",
         "type": "float"
        },
        {
         "name": "Rabi Seasons Cropping density in 2020",
         "rawType": "float64",
         "type": "float"
        },
        {
         "name": "Rabi Seasons Agricultural performance in 2020",
         "rawType": "float64",
         "type": "float"
        },
        {
         "name": "Rabi Seasons Agricultural Score in 2020",
         "rawType": "float64",
         "type": "float"
        },
        {
         "name": "Rabi Seasons Type of soil in 2020",
         "rawType": "object",
         "type": "string"
        },
        {
         "name": "Rabi Seasons Type of water bodies in hectares 2020",
         "rawType": "object",
         "type": "string"
        },
        {
         "name": "Rabi Seasons Agro Ecological Sub Zone in 2020",
         "rawType": "object",
         "type": "string"
        },
        {
         "name": "Rabi Seasons Seasonal average groundwater thickness (cm) in 2020",
         "rawType": "float64",
         "type": "float"
        },
        {
         "name": "Rabi Seasons Seasonal average groundwater replenishment rate (cm) in 2020",
         "rawType": "float64",
         "type": "float"
        },
        {
         "name": " Night light index",
         "rawType": "float64",
         "type": "float"
        },
        {
         "name": " Village score based on socio-economic parameters (Non normalised)",
         "rawType": "float64",
         "type": "float"
        },
        {
         "name": " Village score based on socio-economic parameters (0 to 100)",
         "rawType": "float64",
         "type": "float"
        },
        {
         "name": " Village category based on socio-economic parameters (Good, Average, Poor)",
         "rawType": "object",
         "type": "string"
        },
        {
         "name": " Land Holding Index source (Total Agri Area/ no of people)",
         "rawType": "float64",
         "type": "float"
        },
        {
         "name": " Road density (Km/ SqKm)",
         "rawType": "float64",
         "type": "float"
        },
        {
         "name": "Target_Variable/Total Income",
         "rawType": "int64",
         "type": "integer"
        }
       ],
       "ref": "8dd58472-353e-4f61-9387-a2c339c559e5",
       "rows": [
        [
         "0",
         "MADHYA PRADESH",
         "CENTRAL",
         "M",
         "BARELI",
         "RAISEN",
         "Seoni",
         "M",
         null,
         "0",
         null,
         "100000.0",
         "10.0",
         "Poor",
         "Gotegaon",
         "14.7",
         "11.5",
         "33.5271781523068",
         "Poor",
         "1633.97",
         "23.34 /30.33",
         "Poor",
         "81.26",
         "16.19 /29.07",
         "952.67",
         "23.29 /29.78",
         "99.67",
         "16.48 /30.02",
         "278.96",
         "16.08 /28.09",
         "1.23",
         "1.7",
         "99.3",
         "2.22",
         "0.74",
         "35.43",
         "69.6",
         "15.1",
         "715.7",
         "483.6",
         "67.57",
         "57.32",
         "62.55",
         "27.81",
         "28.6",
         "Deep Black soils (with shallow and medium Black Soils as inclusion)",
         "['water']",
         "CENTRAL HIGHLANDS (MALWA AND BUNDELKHAND)  HOT SUBHUMID (DRY) ECO-REGION",
         "99.99",
         "28.84",
         "74.5",
         "73.19",
         "18.65",
         "24.39",
         "Deep Black soils (with shallow and medium Black Soils as inclusion)",
         "['water']",
         "CENTRAL HIGHLANDS (MALWA AND BUNDELKHAND)  HOT SUBHUMID (DRY) ECO-REGION",
         "92.64",
         "14.38",
         "63.94",
         "77.62",
         "22.47",
         "34.37",
         "Deep Black soils (with shallow and medium Black Soils as inclusion)",
         "['water']",
         "CENTRAL HIGHLANDS (MALWA AND BUNDELKHAND)  HOT SUBHUMID (DRY) ECO-REGION",
         "91.53",
         "17.76",
         "74.5",
         "73.19",
         "7.67",
         "18.62",
         "Deep Black soils (with shallow and medium Black Soils as inclusion)",
         "['water']",
         "CENTRAL HIGHLANDS (MALWA AND BUNDELKHAND)  HOT SUBHUMID (DRY) ECO-REGION",
         "93.41",
         "22.0",
         "63.94",
         "77.62",
         "12.5",
         "22.69",
         "Deep Black soils (with shallow and medium Black Soils as inclusion)",
         "['water']",
         "CENTRAL HIGHLANDS (MALWA AND BUNDELKHAND)  HOT SUBHUMID (DRY) ECO-REGION",
         "98.81",
         "24.99",
         "42.14",
         "35.12",
         "34.0",
         "16.38",
         "Deep Black soils (with shallow and medium Black Soils as inclusion)",
         "['water']",
         "CENTRAL HIGHLANDS (MALWA AND BUNDELKHAND)  HOT SUBHUMID (DRY) ECO-REGION",
         "97.24",
         "19.5",
         "0.95",
         "22.38",
         "33.53",
         "Poor",
         "0.77",
         "0.0",
         "1360000"
        ],
        [
         "1",
         "BIHAR",
         "EAST",
         "M",
         "BANDRA",
         "MUZAFFARPUR",
         "Namapur",
         "M",
         null,
         "1",
         "74000.0",
         "500000.0",
         "6.0",
         "Poor",
         "Chandur(Mungodu)",
         "11.2",
         "0.0",
         "37.1736264718137",
         "Poor",
         "1177.7",
         "23.28 /29.99",
         "Poor",
         "41.84",
         "19.7 /30.52",
         "892.01",
         "23.39 /29.89",
         "49.64",
         "19.54 /30.98",
         "157.76",
         "20.37 /30.56",
         "1.41",
         "13.78",
         "95.85",
         "3.77",
         "7.98",
         "54.5",
         "49.87",
         "2.54",
         "1538.99",
         "1069.01",
         "69.46",
         "47.16",
         "10.26",
         "23.61",
         "25.49",
         "Mixed Red and Black Soils",
         "['water']",
         "DECCAN PLATEAU  (TELANGANA) AND EASTERN GHATS  HOT SEMI ARID ECO-REGION",
         "81.63",
         "23.58",
         "3.93",
         "9.03",
         "21.53",
         "13.91",
         "Mixed Red and Black Soils",
         "['water']",
         "DECCAN PLATEAU  (TELANGANA) AND EASTERN GHATS  HOT SEMI ARID ECO-REGION",
         "78.21",
         "14.59",
         "2.09",
         "9.47",
         "21.95",
         "14.06",
         "Mixed Red and Black Soils",
         "['water']",
         "DECCAN PLATEAU  (TELANGANA) AND EASTERN GHATS  HOT SEMI ARID ECO-REGION",
         "81.64",
         "27.66",
         "3.93",
         "9.03",
         "19.12",
         "11.82",
         "Mixed Red and Black Soils",
         "['water']",
         "DECCAN PLATEAU  (TELANGANA) AND EASTERN GHATS  HOT SEMI ARID ECO-REGION",
         "75.47",
         "16.75",
         "2.09",
         "9.47",
         "16.44",
         "10.07",
         "Mixed Red and Black Soils",
         "['water']",
         "DECCAN PLATEAU  (TELANGANA) AND EASTERN GHATS  HOT SEMI ARID ECO-REGION",
         "78.7",
         "34.96",
         "0.64",
         "2.0",
         "17.21",
         "10.61",
         "Mixed Red and Black Soils",
         "['water']",
         "DECCAN PLATEAU  (TELANGANA) AND EASTERN GHATS  HOT SEMI ARID ECO-REGION",
         "73.96",
         "16.76",
         "0.97",
         "24.63",
         "37.17",
         "Poor",
         "0.45",
         "0.0",
         "807200"
        ],
        [
         "2",
         "MADHYA PRADESH",
         "CENTRAL",
         "M",
         "MALHARGARH",
         "MANDSAUR",
         "Billaud",
         "M",
         null,
         "14",
         "232999.857142857",
         "492500.0",
         "5.0",
         "Average",
         "Mandsaur",
         "20.5",
         "19.0",
         "28.8484621458298",
         "Poor",
         "1534.28",
         "23.25 /31.26",
         "Average",
         "211.06",
         "15.62 /28.67",
         "1144.94",
         "23.14 /30.22",
         "52.52",
         "16.21 /29.91",
         "124.16",
         "16.13 /28.32",
         "0.77",
         "6.06",
         "99.9",
         "3.04",
         "8.51",
         "33.6",
         "65.68",
         "8.09",
         "1405.91",
         "994.43",
         "70.73",
         "79.59",
         "81.01",
         "33.66",
         "38.4",
         "Deep Black soils (with shallow and medium Black Soils as inclusion)",
         "['river']",
         "CENTRAL HIGHLANDS ( MALWA )  GUJARAT PLAIN AND KATHIAWAR PENINSULA  SEMI-ARID ECO-REGION",
         "86.47",
         "17.66",
         "90.18",
         "88.6",
         "47.67",
         "42.47",
         "Deep Black soils (with shallow and medium Black Soils as inclusion)",
         "['river']",
         "CENTRAL HIGHLANDS ( MALWA )  GUJARAT PLAIN AND KATHIAWAR PENINSULA  SEMI-ARID ECO-REGION",
         "87.51",
         "15.25",
         "62.3",
         "60.08",
         "27.74",
         "36.15",
         "Deep Black soils (with shallow and medium Black Soils as inclusion)",
         "['river']",
         "CENTRAL HIGHLANDS ( MALWA )  GUJARAT PLAIN AND KATHIAWAR PENINSULA  SEMI-ARID ECO-REGION",
         "86.14",
         "11.52",
         "90.18",
         "88.6",
         "18.97",
         "27.78",
         "Deep Black soils (with shallow and medium Black Soils as inclusion)",
         "['river']",
         "CENTRAL HIGHLANDS ( MALWA )  GUJARAT PLAIN AND KATHIAWAR PENINSULA  SEMI-ARID ECO-REGION",
         "88.12",
         "21.66",
         "62.3",
         "60.08",
         "35.36",
         "32.7",
         "Deep Black soils (with shallow and medium Black Soils as inclusion)",
         "['river']",
         "CENTRAL HIGHLANDS ( MALWA )  GUJARAT PLAIN AND KATHIAWAR PENINSULA  SEMI-ARID ECO-REGION",
         "85.98",
         "15.65",
         "74.92",
         "78.55",
         "39.54",
         "34.62",
         "Deep Black soils (with shallow and medium Black Soils as inclusion)",
         "['river']",
         "CENTRAL HIGHLANDS ( MALWA )  GUJARAT PLAIN AND KATHIAWAR PENINSULA  SEMI-ARID ECO-REGION",
         "90.05",
         "22.44",
         "0.95",
         "19.49",
         "28.85",
         "Poor",
         "0.66",
         "0.0",
         "500000"
        ],
        [
         "3",
         "MAHARASHTRA",
         "WEST",
         "M",
         "RENAPUR",
         "LATUR",
         "Renapur",
         "M",
         null,
         "0",
         null,
         "40000.0",
         "5.3",
         "Average",
         "Renapur",
         "0.0",
         "6.7",
         "48.8521558528518",
         "Average",
         "1366.66",
         "22 /28.61",
         "Average",
         "44.38",
         "19.81 /31.15",
         "1050.47",
         "21.81 /28.33",
         "162.0",
         "19.32 /31.01",
         "178.55",
         "19.95 /29.97",
         "1.28",
         "14.1",
         "97.12",
         "9.71",
         "76.31",
         "48.47",
         "72.7",
         "15.59",
         "3881.92",
         "3277.09",
         "84.42",
         "60.82",
         "89.27",
         "36.22",
         "41.24",
         "Shallow Black Soils (with medium and deep Black Soils as  inclusion)",
         "[None]",
         "DECCAN PLATU  HOT SEMI-ARID ECO-REGION",
         "102.58",
         "28.73",
         "70.78",
         "96.16",
         "32.24",
         "38.05",
         "Shallow Black Soils (with medium and deep Black Soils as  inclusion)",
         "[None]",
         "DECCAN PLATU  HOT SEMI-ARID ECO-REGION",
         "96.83",
         "19.74",
         "82.18",
         "86.47",
         "31.21",
         "51.5",
         "Shallow Black Soils (with medium and deep Black Soils as  inclusion)",
         "[None]",
         "DECCAN PLATU  HOT SEMI-ARID ECO-REGION",
         "98.08",
         "26.93",
         "70.78",
         "96.16",
         "9.7",
         "26.68",
         "Shallow Black Soils (with medium and deep Black Soils as  inclusion)",
         "[None]",
         "DECCAN PLATU  HOT SEMI-ARID ECO-REGION",
         "99.31",
         "27.16",
         "82.18",
         "86.47",
         "17.33",
         "37.12",
         "Shallow Black Soils (with medium and deep Black Soils as  inclusion)",
         "[None]",
         "DECCAN PLATU  HOT SEMI-ARID ECO-REGION",
         "102.32",
         "32.63",
         "79.44",
         "81.13",
         "14.19",
         "30.95",
         "Shallow Black Soils (with medium and deep Black Soils as  inclusion)",
         "[None]",
         "DECCAN PLATU  HOT SEMI-ARID ECO-REGION",
         "94.64",
         "21.48",
         "0.98",
         "31.84",
         "48.85",
         "Average",
         "0.24",
         "2.49",
         "558000"
        ],
        [
         "4",
         "MADHYA PRADESH",
         "CENTRAL",
         "F",
         "KHURAI",
         "SAGAR",
         "Singhpur",
         "M",
         null,
         "3",
         "138203.0",
         "150000.0",
         "10.0",
         "Poor",
         "Javera",
         "16.6",
         "23.9",
         "31.8208167891275",
         "Poor",
         "1391.97",
         "23.37 /30.51",
         "Poor",
         "41.28",
         "15.65 /28.52",
         "862.84",
         "23.58 /30.29",
         "224.89",
         "15.82 /29.23",
         "174.7",
         "15.71 /27.71",
         "2.92",
         "6.4",
         "98.6",
         "3.26",
         "1.65",
         "24.7",
         "68.8",
         "8.61",
         "626.89",
         "376.29",
         "60.02",
         "45.49",
         "86.99",
         "22.28",
         "23.0",
         "Deep Black soils (with shallow and medium Black Soils as inclusion)",
         "[None]",
         "CENTRAL HIGHLANDS (MALWA AND BUNDELKHAND)  HOT SUBHUMID (DRY) ECO-REGION",
         "96.64",
         "24.96",
         "81.73",
         "53.95",
         "15.56",
         "23.91",
         "Deep Black soils (with shallow and medium Black Soils as inclusion)",
         "[None]",
         "CENTRAL HIGHLANDS (MALWA AND BUNDELKHAND)  HOT SUBHUMID (DRY) ECO-REGION",
         "91.6",
         "13.74",
         "75.07",
         "51.83",
         "29.9",
         "37.84",
         "Deep Black soils (with shallow and medium Black Soils as inclusion)",
         "[None]",
         "CENTRAL HIGHLANDS (MALWA AND BUNDELKHAND)  HOT SUBHUMID (DRY) ECO-REGION",
         "90.26",
         "15.61",
         "81.73",
         "53.95",
         "0.37",
         "16.59",
         "Deep Black soils (with shallow and medium Black Soils as inclusion)",
         "[None]",
         "CENTRAL HIGHLANDS (MALWA AND BUNDELKHAND)  HOT SUBHUMID (DRY) ECO-REGION",
         "92.16",
         "20.55",
         "75.07",
         "51.83",
         "20.13",
         "28.14",
         "Deep Black soils (with shallow and medium Black Soils as inclusion)",
         "[None]",
         "CENTRAL HIGHLANDS (MALWA AND BUNDELKHAND)  HOT SUBHUMID (DRY) ECO-REGION",
         "96.05",
         "21.7",
         "86.23",
         "70.62",
         "19.24",
         "26.14",
         "Deep Black soils (with shallow and medium Black Soils as inclusion)",
         "[None]",
         "CENTRAL HIGHLANDS (MALWA AND BUNDELKHAND)  HOT SUBHUMID (DRY) ECO-REGION",
         "95.9",
         "18.93",
         "0.97",
         "21.33",
         "31.82",
         "Poor",
         "0.21",
         "0.0",
         "800000"
        ]
       ],
       "shape": {
        "columns": 101,
        "rows": 5
       }
      },
      "text/html": [
       "<div>\n",
       "<style scoped>\n",
       "    .dataframe tbody tr th:only-of-type {\n",
       "        vertical-align: middle;\n",
       "    }\n",
       "\n",
       "    .dataframe tbody tr th {\n",
       "        vertical-align: top;\n",
       "    }\n",
       "\n",
       "    .dataframe thead th {\n",
       "        text-align: right;\n",
       "    }\n",
       "</style>\n",
       "<table border=\"1\" class=\"dataframe\">\n",
       "  <thead>\n",
       "    <tr style=\"text-align: right;\">\n",
       "      <th></th>\n",
       "      <th>State</th>\n",
       "      <th>REGION</th>\n",
       "      <th>SEX</th>\n",
       "      <th>CITY</th>\n",
       "      <th>DISTRICT</th>\n",
       "      <th>VILLAGE</th>\n",
       "      <th>MARITAL_STATUS</th>\n",
       "      <th>Ownership</th>\n",
       "      <th>No_of_Active_Loan_In_Bureau</th>\n",
       "      <th>Avg_Disbursement_Amount_Bureau</th>\n",
       "      <th>...</th>\n",
       "      <th>Rabi Seasons Agro Ecological Sub Zone in 2020</th>\n",
       "      <th>Rabi Seasons Seasonal average groundwater thickness (cm) in 2020</th>\n",
       "      <th>Rabi Seasons Seasonal average groundwater replenishment rate (cm) in 2020</th>\n",
       "      <th>Night light index</th>\n",
       "      <th>Village score based on socio-economic parameters (Non normalised)</th>\n",
       "      <th>Village score based on socio-economic parameters (0 to 100)</th>\n",
       "      <th>Village category based on socio-economic parameters (Good, Average, Poor)</th>\n",
       "      <th>Land Holding Index source (Total Agri Area/ no of people)</th>\n",
       "      <th>Road density (Km/ SqKm)</th>\n",
       "      <th>Target_Variable/Total Income</th>\n",
       "    </tr>\n",
       "  </thead>\n",
       "  <tbody>\n",
       "    <tr>\n",
       "      <th>0</th>\n",
       "      <td>MADHYA PRADESH</td>\n",
       "      <td>CENTRAL</td>\n",
       "      <td>M</td>\n",
       "      <td>BARELI</td>\n",
       "      <td>RAISEN</td>\n",
       "      <td>Seoni</td>\n",
       "      <td>M</td>\n",
       "      <td>NaN</td>\n",
       "      <td>0</td>\n",
       "      <td>NaN</td>\n",
       "      <td>...</td>\n",
       "      <td>CENTRAL HIGHLANDS (MALWA AND BUNDELKHAND)  HOT...</td>\n",
       "      <td>97.24</td>\n",
       "      <td>19.50</td>\n",
       "      <td>0.95</td>\n",
       "      <td>22.38</td>\n",
       "      <td>33.53</td>\n",
       "      <td>Poor</td>\n",
       "      <td>0.77</td>\n",
       "      <td>0.00</td>\n",
       "      <td>1360000</td>\n",
       "    </tr>\n",
       "    <tr>\n",
       "      <th>1</th>\n",
       "      <td>BIHAR</td>\n",
       "      <td>EAST</td>\n",
       "      <td>M</td>\n",
       "      <td>BANDRA</td>\n",
       "      <td>MUZAFFARPUR</td>\n",
       "      <td>Namapur</td>\n",
       "      <td>M</td>\n",
       "      <td>NaN</td>\n",
       "      <td>1</td>\n",
       "      <td>74000.000000</td>\n",
       "      <td>...</td>\n",
       "      <td>DECCAN PLATEAU  (TELANGANA) AND EASTERN GHATS ...</td>\n",
       "      <td>73.96</td>\n",
       "      <td>16.76</td>\n",
       "      <td>0.97</td>\n",
       "      <td>24.63</td>\n",
       "      <td>37.17</td>\n",
       "      <td>Poor</td>\n",
       "      <td>0.45</td>\n",
       "      <td>0.00</td>\n",
       "      <td>807200</td>\n",
       "    </tr>\n",
       "    <tr>\n",
       "      <th>2</th>\n",
       "      <td>MADHYA PRADESH</td>\n",
       "      <td>CENTRAL</td>\n",
       "      <td>M</td>\n",
       "      <td>MALHARGARH</td>\n",
       "      <td>MANDSAUR</td>\n",
       "      <td>Billaud</td>\n",
       "      <td>M</td>\n",
       "      <td>NaN</td>\n",
       "      <td>14</td>\n",
       "      <td>232999.857143</td>\n",
       "      <td>...</td>\n",
       "      <td>CENTRAL HIGHLANDS ( MALWA )  GUJARAT PLAIN AND...</td>\n",
       "      <td>90.05</td>\n",
       "      <td>22.44</td>\n",
       "      <td>0.95</td>\n",
       "      <td>19.49</td>\n",
       "      <td>28.85</td>\n",
       "      <td>Poor</td>\n",
       "      <td>0.66</td>\n",
       "      <td>0.00</td>\n",
       "      <td>500000</td>\n",
       "    </tr>\n",
       "    <tr>\n",
       "      <th>3</th>\n",
       "      <td>MAHARASHTRA</td>\n",
       "      <td>WEST</td>\n",
       "      <td>M</td>\n",
       "      <td>RENAPUR</td>\n",
       "      <td>LATUR</td>\n",
       "      <td>Renapur</td>\n",
       "      <td>M</td>\n",
       "      <td>NaN</td>\n",
       "      <td>0</td>\n",
       "      <td>NaN</td>\n",
       "      <td>...</td>\n",
       "      <td>DECCAN PLATU  HOT SEMI-ARID ECO-REGION</td>\n",
       "      <td>94.64</td>\n",
       "      <td>21.48</td>\n",
       "      <td>0.98</td>\n",
       "      <td>31.84</td>\n",
       "      <td>48.85</td>\n",
       "      <td>Average</td>\n",
       "      <td>0.24</td>\n",
       "      <td>2.49</td>\n",
       "      <td>558000</td>\n",
       "    </tr>\n",
       "    <tr>\n",
       "      <th>4</th>\n",
       "      <td>MADHYA PRADESH</td>\n",
       "      <td>CENTRAL</td>\n",
       "      <td>F</td>\n",
       "      <td>KHURAI</td>\n",
       "      <td>SAGAR</td>\n",
       "      <td>Singhpur</td>\n",
       "      <td>M</td>\n",
       "      <td>NaN</td>\n",
       "      <td>3</td>\n",
       "      <td>138203.000000</td>\n",
       "      <td>...</td>\n",
       "      <td>CENTRAL HIGHLANDS (MALWA AND BUNDELKHAND)  HOT...</td>\n",
       "      <td>95.90</td>\n",
       "      <td>18.93</td>\n",
       "      <td>0.97</td>\n",
       "      <td>21.33</td>\n",
       "      <td>31.82</td>\n",
       "      <td>Poor</td>\n",
       "      <td>0.21</td>\n",
       "      <td>0.00</td>\n",
       "      <td>800000</td>\n",
       "    </tr>\n",
       "  </tbody>\n",
       "</table>\n",
       "<p>5 rows × 101 columns</p>\n",
       "</div>"
      ],
      "text/plain": [
       "            State   REGION SEX        CITY     DISTRICT   VILLAGE  \\\n",
       "0  MADHYA PRADESH  CENTRAL   M      BARELI       RAISEN     Seoni   \n",
       "1           BIHAR     EAST   M      BANDRA  MUZAFFARPUR   Namapur   \n",
       "2  MADHYA PRADESH  CENTRAL   M  MALHARGARH     MANDSAUR   Billaud   \n",
       "3     MAHARASHTRA     WEST   M     RENAPUR        LATUR   Renapur   \n",
       "4  MADHYA PRADESH  CENTRAL   F      KHURAI        SAGAR  Singhpur   \n",
       "\n",
       "  MARITAL_STATUS Ownership  No_of_Active_Loan_In_Bureau  \\\n",
       "0              M       NaN                            0   \n",
       "1              M       NaN                            1   \n",
       "2              M       NaN                           14   \n",
       "3              M       NaN                            0   \n",
       "4              M       NaN                            3   \n",
       "\n",
       "   Avg_Disbursement_Amount_Bureau  ...  \\\n",
       "0                             NaN  ...   \n",
       "1                    74000.000000  ...   \n",
       "2                   232999.857143  ...   \n",
       "3                             NaN  ...   \n",
       "4                   138203.000000  ...   \n",
       "\n",
       "       Rabi Seasons Agro Ecological Sub Zone in 2020  \\\n",
       "0  CENTRAL HIGHLANDS (MALWA AND BUNDELKHAND)  HOT...   \n",
       "1  DECCAN PLATEAU  (TELANGANA) AND EASTERN GHATS ...   \n",
       "2  CENTRAL HIGHLANDS ( MALWA )  GUJARAT PLAIN AND...   \n",
       "3             DECCAN PLATU  HOT SEMI-ARID ECO-REGION   \n",
       "4  CENTRAL HIGHLANDS (MALWA AND BUNDELKHAND)  HOT...   \n",
       "\n",
       "   Rabi Seasons Seasonal average groundwater thickness (cm) in 2020  \\\n",
       "0                                              97.24                  \n",
       "1                                              73.96                  \n",
       "2                                              90.05                  \n",
       "3                                              94.64                  \n",
       "4                                              95.90                  \n",
       "\n",
       "  Rabi Seasons Seasonal average groundwater replenishment rate (cm) in 2020  \\\n",
       "0                                              19.50                          \n",
       "1                                              16.76                          \n",
       "2                                              22.44                          \n",
       "3                                              21.48                          \n",
       "4                                              18.93                          \n",
       "\n",
       "   Night light index  \\\n",
       "0               0.95   \n",
       "1               0.97   \n",
       "2               0.95   \n",
       "3               0.98   \n",
       "4               0.97   \n",
       "\n",
       "    Village score based on socio-economic parameters (Non normalised)  \\\n",
       "0                                              22.38                    \n",
       "1                                              24.63                    \n",
       "2                                              19.49                    \n",
       "3                                              31.84                    \n",
       "4                                              21.33                    \n",
       "\n",
       "    Village score based on socio-economic parameters (0 to 100)  \\\n",
       "0                                              33.53              \n",
       "1                                              37.17              \n",
       "2                                              28.85              \n",
       "3                                              48.85              \n",
       "4                                              31.82              \n",
       "\n",
       "    Village category based on socio-economic parameters (Good, Average, Poor)  \\\n",
       "0                                               Poor                            \n",
       "1                                               Poor                            \n",
       "2                                               Poor                            \n",
       "3                                            Average                            \n",
       "4                                               Poor                            \n",
       "\n",
       "   Land Holding Index source (Total Agri Area/ no of people)  \\\n",
       "0                                               0.77           \n",
       "1                                               0.45           \n",
       "2                                               0.66           \n",
       "3                                               0.24           \n",
       "4                                               0.21           \n",
       "\n",
       "    Road density (Km/ SqKm) Target_Variable/Total Income  \n",
       "0                      0.00                      1360000  \n",
       "1                      0.00                       807200  \n",
       "2                      0.00                       500000  \n",
       "3                      2.49                       558000  \n",
       "4                      0.00                       800000  \n",
       "\n",
       "[5 rows x 101 columns]"
      ]
     },
     "execution_count": 4,
     "metadata": {},
     "output_type": "execute_result"
    }
   ],
   "source": [
    "df.head()"
   ]
  },
  {
   "cell_type": "code",
   "execution_count": 50,
   "id": "732b65ae",
   "metadata": {},
   "outputs": [],
   "source": [
    "# Drop constant or almost constant columns\n",
    "df = df.loc[:, df.nunique() > 1]\n",
    "test_df = test_df.loc[:, test_df.nunique() > 1]\n",
    "# Drop columns with >30-40% missing values (tweak threshold)\n",
    "df = df.loc[:, df.isnull().mean() < 0.4]\n",
    "test_df = test_df.loc[:, test_df.isnull().mean() < 0.4]\n"
   ]
  },
  {
   "cell_type": "code",
   "execution_count": null,
   "id": "a8318d39",
   "metadata": {},
   "outputs": [],
   "source": [
    "cols = [\n",
    "    \"K022-Ambient temperature (min & max)\",\n",
    "    \"K021-Ambient temperature (min & max)\",\n",
    "    \"R021-Ambient temperature (min & max)\",\n",
    "    \"R020-Ambient temperature (min & max)\"\n",
    "]\n",
    "\n",
    "for col in cols:\n",
    "    df[col] = df[col].apply(lambda val: \n",
    "        (float(val.split('/')[0]) + float(val.split('/')[1])) / 2 if isinstance(val, str) and '/' in val else val\n",
    "    )\n",
    "    test_df[col] = test_df[col].apply(lambda val: \n",
    "        (float(val.split('/')[0]) + float(val.split('/')[1])) / 2 if isinstance(val, str) and '/' in val else val\n",
    "    )\n"
   ]
  },
  {
   "cell_type": "code",
   "execution_count": 52,
   "id": "e8a46b4a",
   "metadata": {},
   "outputs": [
    {
     "name": "stdout",
     "output_type": "stream",
     "text": [
      "Index(['State', 'REGION', 'SEX', 'CITY', 'DISTRICT', 'VILLAGE',\n",
      "       'MARITAL_STATUS', 'Ownership',\n",
      "       'K022-Village category based on Agri parameters (Good, Average, Poor)',\n",
      "       'K022-Nearest Mandi Name',\n",
      "       'K022-Village category based on socio-economic parameters (Good, Average, Poor)',\n",
      "       'R022-Village category based on Agri parameters (Good, Average, Poor)',\n",
      "       'R022-Ambient temperature (min & max)',\n",
      "       'Kharif Seasons  Type of soil in 2022',\n",
      "       'Kharif Seasons  Type of water bodies in hectares 2022',\n",
      "       'Kharif Seasons  Agro Ecological Sub Zone in 2022',\n",
      "       'Rabi Seasons Type of soil in 2022',\n",
      "       'Rabi Seasons Type of water bodies in hectares 2022',\n",
      "       'Rabi Seasons Agro Ecological Sub Zone in 2022',\n",
      "       'Rabi Seasons Type of soil in 2021',\n",
      "       'Rabi Seasons Type of water bodies in hectares 2021',\n",
      "       'Rabi Seasons Agro Ecological Sub Zone in 2021',\n",
      "       'Kharif Seasons Type of soil in 2021',\n",
      "       'Kharif Seasons Type of water bodies in hectares 2021',\n",
      "       'Kharif Seasons Agro Ecological Sub Zone in 2021',\n",
      "       'Kharif Seasons Type of soil in 2020',\n",
      "       'Kharif Seasons Type of water bodies in hectares 2020',\n",
      "       'Kharif Seasons Agro Ecological Sub Zone in 2020',\n",
      "       'Rabi Seasons Type of soil in 2020',\n",
      "       'Rabi Seasons Type of water bodies in hectares 2020',\n",
      "       'Rabi Seasons Agro Ecological Sub Zone in 2020',\n",
      "       ' Village category based on socio-economic parameters (Good, Average, Poor)'],\n",
      "      dtype='object')\n"
     ]
    }
   ],
   "source": [
    "categorical_cols = df.select_dtypes(include=['object', 'category']).columns\n",
    "categorical_cols = test_df.select_dtypes(include=['object', 'category']).columns\n",
    "print(categorical_cols)\n"
   ]
  },
  {
   "cell_type": "code",
   "execution_count": 53,
   "id": "5716d5ef",
   "metadata": {},
   "outputs": [],
   "source": [
    "from sklearn.preprocessing import LabelEncoder\n",
    "\n",
    "for col in categorical_cols:\n",
    "    le = LabelEncoder()\n",
    "    df[col] = le.fit_transform(df[col])\n",
    "    test_df[col] = le.fit_transform(test_df[col])"
   ]
  },
  {
   "cell_type": "code",
   "execution_count": 9,
   "id": "52a271ba",
   "metadata": {},
   "outputs": [
    {
     "data": {
      "application/vnd.microsoft.datawrangler.viewer.v0+json": {
       "columns": [
        {
         "name": "index",
         "rawType": "int64",
         "type": "integer"
        },
        {
         "name": "State",
         "rawType": "int64",
         "type": "integer"
        },
        {
         "name": "REGION",
         "rawType": "int64",
         "type": "integer"
        },
        {
         "name": "SEX",
         "rawType": "int64",
         "type": "integer"
        },
        {
         "name": "CITY",
         "rawType": "int64",
         "type": "integer"
        },
        {
         "name": "DISTRICT",
         "rawType": "int64",
         "type": "integer"
        },
        {
         "name": "VILLAGE",
         "rawType": "int64",
         "type": "integer"
        },
        {
         "name": "MARITAL_STATUS",
         "rawType": "int64",
         "type": "integer"
        },
        {
         "name": "Ownership",
         "rawType": "int64",
         "type": "integer"
        },
        {
         "name": "No_of_Active_Loan_In_Bureau",
         "rawType": "int64",
         "type": "integer"
        },
        {
         "name": "Non_Agriculture_Income",
         "rawType": "float64",
         "type": "float"
        },
        {
         "name": "Total_Land_For_Agriculture",
         "rawType": "float64",
         "type": "float"
        },
        {
         "name": "K022-Village category based on Agri parameters (Good, Average, Poor)",
         "rawType": "int64",
         "type": "integer"
        },
        {
         "name": "K022-Nearest Mandi Name",
         "rawType": "int64",
         "type": "integer"
        },
        {
         "name": "K022-Proximity to nearest mandi (Km)",
         "rawType": "float64",
         "type": "float"
        },
        {
         "name": "K022-Proximity to nearest railway (Km)",
         "rawType": "float64",
         "type": "float"
        },
        {
         "name": "KO22-Village score based on socio-economic parameters (0 to 100)",
         "rawType": "float64",
         "type": "float"
        },
        {
         "name": "K022-Village category based on socio-economic parameters (Good, Average, Poor)",
         "rawType": "int64",
         "type": "integer"
        },
        {
         "name": "K022-Seasonal Average Rainfall (mm)",
         "rawType": "float64",
         "type": "float"
        },
        {
         "name": "K022-Ambient temperature (min & max)",
         "rawType": "float64",
         "type": "float"
        },
        {
         "name": "R022-Village category based on Agri parameters (Good, Average, Poor)",
         "rawType": "int64",
         "type": "integer"
        },
        {
         "name": "R022-Seasonal Average Rainfall (mm)",
         "rawType": "float64",
         "type": "float"
        },
        {
         "name": "R022-Ambient temperature (min & max)",
         "rawType": "int64",
         "type": "integer"
        },
        {
         "name": "K021-Seasonal Average Rainfall (mm)",
         "rawType": "float64",
         "type": "float"
        },
        {
         "name": "K021-Ambient temperature (min & max)",
         "rawType": "float64",
         "type": "float"
        },
        {
         "name": "R021-Seasonal Average Rainfall (mm)",
         "rawType": "float64",
         "type": "float"
        },
        {
         "name": "R021-Ambient temperature (min & max)",
         "rawType": "float64",
         "type": "float"
        },
        {
         "name": "R020-Seasonal Average Rainfall (mm)",
         "rawType": "float64",
         "type": "float"
        },
        {
         "name": "R020-Ambient temperature (min & max)",
         "rawType": "float64",
         "type": "float"
        },
        {
         "name": "Perc_of_house_with_6plus_room",
         "rawType": "float64",
         "type": "float"
        },
        {
         "name": "Women_15_19_Mothers_or_Pregnant_at_time_of_survey",
         "rawType": "float64",
         "type": "float"
        },
        {
         "name": "perc_of_pop_living_in_hh_electricity",
         "rawType": "float64",
         "type": "float"
        },
        {
         "name": "perc_Households_with_Pucca_House_That_Has_More_Than_3_Rooms",
         "rawType": "float64",
         "type": "float"
        },
        {
         "name": "mat_roof_Metal_GI_Asbestos_sheets",
         "rawType": "float64",
         "type": "float"
        },
        {
         "name": "perc_of_Wall_material_with_Burnt_brick",
         "rawType": "float64",
         "type": "float"
        },
        {
         "name": "Households_with_improved_Sanitation_Facility",
         "rawType": "float64",
         "type": "float"
        },
        {
         "name": "perc_Households_do_not_have_KCC_With_The_Credit_Limit_Of_50k",
         "rawType": "float64",
         "type": "float"
        },
        {
         "name": "K022-Total Geographical Area (in Hectares)-",
         "rawType": "float64",
         "type": "float"
        },
        {
         "name": "K022-Net Agri area (in Ha)-",
         "rawType": "float64",
         "type": "float"
        },
        {
         "name": "K022-Net Agri area (% of total geog area)-",
         "rawType": "float64",
         "type": "float"
        },
        {
         "name": "Kharif Seasons  Irrigated area in 2022",
         "rawType": "float64",
         "type": "float"
        },
        {
         "name": "Kharif Seasons  Cropping density in 2022",
         "rawType": "float64",
         "type": "float"
        },
        {
         "name": "Kharif Seasons  Agricultural performance in 2022",
         "rawType": "float64",
         "type": "float"
        },
        {
         "name": "Kharif Seasons  Agricultural Score in 2022",
         "rawType": "float64",
         "type": "float"
        },
        {
         "name": "Kharif Seasons  Type of soil in 2022",
         "rawType": "int64",
         "type": "integer"
        },
        {
         "name": "Kharif Seasons  Type of water bodies in hectares 2022",
         "rawType": "int64",
         "type": "integer"
        },
        {
         "name": "Kharif Seasons  Agro Ecological Sub Zone in 2022",
         "rawType": "int64",
         "type": "integer"
        },
        {
         "name": "Kharif Seasons  Seasonal average groundwater thickness (cm) in 2022",
         "rawType": "float64",
         "type": "float"
        },
        {
         "name": "Kharif Seasons  Seasonal average groundwater replenishment rate (cm) in 2022",
         "rawType": "float64",
         "type": "float"
        },
        {
         "name": "Rabi Seasons  Season Irrigated area in 2022",
         "rawType": "float64",
         "type": "float"
        },
        {
         "name": "Rabi Seasons Cropping density in 2022",
         "rawType": "float64",
         "type": "float"
        },
        {
         "name": "Rabi Seasons Agricultural performance in 2022",
         "rawType": "float64",
         "type": "float"
        },
        {
         "name": "Rabi Seasons Agricultural Score in 2022",
         "rawType": "float64",
         "type": "float"
        },
        {
         "name": "Rabi Seasons Type of soil in 2022",
         "rawType": "int64",
         "type": "integer"
        },
        {
         "name": "Rabi Seasons Type of water bodies in hectares 2022",
         "rawType": "int64",
         "type": "integer"
        },
        {
         "name": "Rabi Seasons Agro Ecological Sub Zone in 2022",
         "rawType": "int64",
         "type": "integer"
        },
        {
         "name": "Rabi Seasons Seasonal average groundwater thickness (cm) in 2022",
         "rawType": "float64",
         "type": "float"
        },
        {
         "name": "Rabi Seasons Seasonal average groundwater replenishment rate (cm) in 2022",
         "rawType": "float64",
         "type": "float"
        },
        {
         "name": "Rabi Seasons Kharif Season Irrigated area in 2021",
         "rawType": "float64",
         "type": "float"
        },
        {
         "name": "Rabi Seasons Cropping density in 2021",
         "rawType": "float64",
         "type": "float"
        },
        {
         "name": "Rabi Seasons Agricultural performance in 2021",
         "rawType": "float64",
         "type": "float"
        },
        {
         "name": "Rabi Seasons Agricultural Score in 2021",
         "rawType": "float64",
         "type": "float"
        },
        {
         "name": "Rabi Seasons Type of soil in 2021",
         "rawType": "int64",
         "type": "integer"
        },
        {
         "name": "Rabi Seasons Type of water bodies in hectares 2021",
         "rawType": "int64",
         "type": "integer"
        },
        {
         "name": "Rabi Seasons Agro Ecological Sub Zone in 2021",
         "rawType": "int64",
         "type": "integer"
        },
        {
         "name": "Rabi Seasons Seasonal average groundwater thickness (cm) in 2021",
         "rawType": "float64",
         "type": "float"
        },
        {
         "name": "Rabi Seasons Seasonal average groundwater replenishment rate (cm) in 2021",
         "rawType": "float64",
         "type": "float"
        },
        {
         "name": "Kharif Seasons Kharif Season Irrigated area in 2021",
         "rawType": "float64",
         "type": "float"
        },
        {
         "name": "Kharif Seasons Cropping density in 2021",
         "rawType": "float64",
         "type": "float"
        },
        {
         "name": "Kharif Seasons Agricultural performance in 2021",
         "rawType": "float64",
         "type": "float"
        },
        {
         "name": "Kharif Seasons Agricultural Score in 2021",
         "rawType": "float64",
         "type": "float"
        },
        {
         "name": "Kharif Seasons Type of soil in 2021",
         "rawType": "int64",
         "type": "integer"
        },
        {
         "name": "Kharif Seasons Type of water bodies in hectares 2021",
         "rawType": "int64",
         "type": "integer"
        },
        {
         "name": "Kharif Seasons Agro Ecological Sub Zone in 2021",
         "rawType": "int64",
         "type": "integer"
        },
        {
         "name": "Kharif Seasons Seasonal average groundwater thickness (cm) in 2021",
         "rawType": "float64",
         "type": "float"
        },
        {
         "name": "Kharif Seasons Seasonal average groundwater replenishment rate (cm) in 2021",
         "rawType": "float64",
         "type": "float"
        },
        {
         "name": "Kharif Seasons Kharif Season Irrigated area in 2020",
         "rawType": "float64",
         "type": "float"
        },
        {
         "name": "Kharif Seasons Cropping density in 2020",
         "rawType": "float64",
         "type": "float"
        },
        {
         "name": "Kharif Seasons Agricultural performance in 2020",
         "rawType": "float64",
         "type": "float"
        },
        {
         "name": "Kharif Seasons Agricultural Score in 2020",
         "rawType": "float64",
         "type": "float"
        },
        {
         "name": "Kharif Seasons Type of soil in 2020",
         "rawType": "int64",
         "type": "integer"
        },
        {
         "name": "Kharif Seasons Type of water bodies in hectares 2020",
         "rawType": "int64",
         "type": "integer"
        },
        {
         "name": "Kharif Seasons Agro Ecological Sub Zone in 2020",
         "rawType": "int64",
         "type": "integer"
        },
        {
         "name": "Kharif Seasons Seasonal average groundwater thickness (cm) in 2020",
         "rawType": "float64",
         "type": "float"
        },
        {
         "name": "Kharif Seasons Seasonal average groundwater replenishment rate (cm) in 2020",
         "rawType": "float64",
         "type": "float"
        },
        {
         "name": "Rabi Seasons Kharif Season Irrigated area in 2020",
         "rawType": "float64",
         "type": "float"
        },
        {
         "name": "Rabi Seasons Cropping density in 2020",
         "rawType": "float64",
         "type": "float"
        },
        {
         "name": "Rabi Seasons Agricultural performance in 2020",
         "rawType": "float64",
         "type": "float"
        },
        {
         "name": "Rabi Seasons Agricultural Score in 2020",
         "rawType": "float64",
         "type": "float"
        },
        {
         "name": "Rabi Seasons Type of soil in 2020",
         "rawType": "int64",
         "type": "integer"
        },
        {
         "name": "Rabi Seasons Type of water bodies in hectares 2020",
         "rawType": "int64",
         "type": "integer"
        },
        {
         "name": "Rabi Seasons Agro Ecological Sub Zone in 2020",
         "rawType": "int64",
         "type": "integer"
        },
        {
         "name": "Rabi Seasons Seasonal average groundwater thickness (cm) in 2020",
         "rawType": "float64",
         "type": "float"
        },
        {
         "name": "Rabi Seasons Seasonal average groundwater replenishment rate (cm) in 2020",
         "rawType": "float64",
         "type": "float"
        },
        {
         "name": " Night light index",
         "rawType": "float64",
         "type": "float"
        },
        {
         "name": " Village score based on socio-economic parameters (Non normalised)",
         "rawType": "float64",
         "type": "float"
        },
        {
         "name": " Village score based on socio-economic parameters (0 to 100)",
         "rawType": "float64",
         "type": "float"
        },
        {
         "name": " Village category based on socio-economic parameters (Good, Average, Poor)",
         "rawType": "int64",
         "type": "integer"
        },
        {
         "name": " Land Holding Index source (Total Agri Area/ no of people)",
         "rawType": "float64",
         "type": "float"
        },
        {
         "name": " Road density (Km/ SqKm)",
         "rawType": "float64",
         "type": "float"
        },
        {
         "name": "Target_Variable/Total Income",
         "rawType": "int64",
         "type": "integer"
        }
       ],
       "ref": "cfb29889-346a-49c4-8f40-4e3bc5bbb9a1",
       "rows": [
        [
         "0",
         "9",
         "0",
         "1",
         "224",
         "294",
         "4261",
         "0",
         "3",
         "0",
         "100000.0",
         "10.0",
         "1",
         "274",
         "14.7",
         "11.5",
         "33.5271781523068",
         "2",
         "1633.97",
         "26.835",
         "1",
         "81.26",
         "223",
         "952.67",
         "26.535",
         "99.67",
         "23.25",
         "278.96",
         "22.085",
         "1.23",
         "1.7",
         "99.3",
         "2.22",
         "0.74",
         "35.43",
         "69.6",
         "15.1",
         "715.7",
         "483.6",
         "67.57",
         "57.32",
         "62.55",
         "27.81",
         "28.6",
         "2",
         "17",
         "1",
         "99.99",
         "28.84",
         "74.5",
         "73.19",
         "18.65",
         "24.39",
         "2",
         "17",
         "1",
         "92.64",
         "14.38",
         "63.94",
         "77.62",
         "22.47",
         "34.37",
         "2",
         "17",
         "1",
         "91.53",
         "17.76",
         "74.5",
         "73.19",
         "7.67",
         "18.62",
         "2",
         "17",
         "1",
         "93.41",
         "22.0",
         "63.94",
         "77.62",
         "12.5",
         "22.69",
         "2",
         "17",
         "1",
         "98.81",
         "24.99",
         "42.14",
         "35.12",
         "34.0",
         "16.38",
         "2",
         "17",
         "1",
         "97.24",
         "19.5",
         "0.95",
         "22.38",
         "33.53",
         "2",
         "0.77",
         "0.0",
         "1360000"
        ],
        [
         "1",
         "2",
         "1",
         "1",
         "193",
         "246",
         "3407",
         "0",
         "3",
         "1",
         "500000.0",
         "6.0",
         "1",
         "166",
         "11.2",
         "0.0",
         "37.1736264718137",
         "2",
         "1177.7",
         "26.634999999999998",
         "1",
         "41.84",
         "699",
         "892.01",
         "26.64",
         "49.64",
         "25.259999999999998",
         "157.76",
         "25.465",
         "1.41",
         "13.78",
         "95.85",
         "3.77",
         "7.98",
         "54.5",
         "49.87",
         "2.54",
         "1538.99",
         "1069.01",
         "69.46",
         "47.16",
         "10.26",
         "23.61",
         "25.49",
         "4",
         "17",
         "2",
         "81.63",
         "23.58",
         "3.93",
         "9.03",
         "21.53",
         "13.91",
         "4",
         "17",
         "2",
         "78.21",
         "14.59",
         "2.09",
         "9.47",
         "21.95",
         "14.06",
         "4",
         "17",
         "2",
         "81.64",
         "27.66",
         "3.93",
         "9.03",
         "19.12",
         "11.82",
         "4",
         "17",
         "2",
         "75.47",
         "16.75",
         "2.09",
         "9.47",
         "16.44",
         "10.07",
         "4",
         "17",
         "2",
         "78.7",
         "34.96",
         "0.64",
         "2.0",
         "17.21",
         "10.61",
         "4",
         "17",
         "2",
         "73.96",
         "16.76",
         "0.97",
         "24.63",
         "37.17",
         "2",
         "0.45",
         "0.0",
         "807200"
        ],
        [
         "2",
         "9",
         "0",
         "1",
         "1394",
         "230",
         "938",
         "0",
         "3",
         "14",
         "492500.0",
         "5.0",
         "0",
         "504",
         "20.5",
         "19.0",
         "28.8484621458298",
         "2",
         "1534.28",
         "27.255000000000003",
         "0",
         "211.06",
         "186",
         "1144.94",
         "26.68",
         "52.52",
         "23.060000000000002",
         "124.16",
         "22.225",
         "0.77",
         "6.06",
         "99.9",
         "3.04",
         "8.51",
         "33.6",
         "65.68",
         "8.09",
         "1405.91",
         "994.43",
         "70.73",
         "79.59",
         "81.01",
         "33.66",
         "38.4",
         "2",
         "7",
         "0",
         "86.47",
         "17.66",
         "90.18",
         "88.6",
         "47.67",
         "42.47",
         "2",
         "7",
         "0",
         "87.51",
         "15.25",
         "62.3",
         "60.08",
         "27.74",
         "36.15",
         "2",
         "7",
         "0",
         "86.14",
         "11.52",
         "90.18",
         "88.6",
         "18.97",
         "27.78",
         "2",
         "7",
         "0",
         "88.12",
         "21.66",
         "62.3",
         "60.08",
         "35.36",
         "32.7",
         "2",
         "7",
         "0",
         "85.98",
         "15.65",
         "74.92",
         "78.55",
         "39.54",
         "34.62",
         "2",
         "7",
         "0",
         "90.05",
         "22.44",
         "0.95",
         "19.49",
         "28.85",
         "2",
         "0.66",
         "0.0",
         "500000"
        ],
        [
         "3",
         "10",
         "4",
         "1",
         "1997",
         "212",
         "4043",
         "0",
         "3",
         "0",
         "40000.0",
         "5.3",
         "0",
         "691",
         "0.0",
         "6.7",
         "48.8521558528518",
         "0",
         "1366.66",
         "25.305",
         "0",
         "44.38",
         "742",
         "1050.47",
         "25.07",
         "162.0",
         "25.165",
         "178.55",
         "24.96",
         "1.28",
         "14.1",
         "97.12",
         "9.71",
         "76.31",
         "48.47",
         "72.7",
         "15.59",
         "3881.92",
         "3277.09",
         "84.42",
         "60.82",
         "89.27",
         "36.22",
         "41.24",
         "7",
         "20",
         "3",
         "102.58",
         "28.73",
         "70.78",
         "96.16",
         "32.24",
         "38.05",
         "7",
         "20",
         "3",
         "96.83",
         "19.74",
         "82.18",
         "86.47",
         "31.21",
         "51.5",
         "7",
         "20",
         "3",
         "98.08",
         "26.93",
         "70.78",
         "96.16",
         "9.7",
         "26.68",
         "7",
         "20",
         "3",
         "99.31",
         "27.16",
         "82.18",
         "86.47",
         "17.33",
         "37.12",
         "7",
         "20",
         "3",
         "102.32",
         "32.63",
         "79.44",
         "81.13",
         "14.19",
         "30.95",
         "7",
         "20",
         "3",
         "94.64",
         "21.48",
         "0.98",
         "31.84",
         "48.85",
         "0",
         "0.24",
         "2.49",
         "558000"
        ],
        [
         "4",
         "9",
         "0",
         "0",
         "1184",
         "311",
         "4376",
         "0",
         "3",
         "3",
         "150000.0",
         "10.0",
         "1",
         "357",
         "16.6",
         "23.9",
         "31.8208167891275",
         "2",
         "1391.97",
         "26.94",
         "1",
         "41.28",
         "190",
         "862.84",
         "26.935",
         "224.89",
         "22.525",
         "174.7",
         "21.71",
         "2.92",
         "6.4",
         "98.6",
         "3.26",
         "1.65",
         "24.7",
         "68.8",
         "8.61",
         "626.89",
         "376.29",
         "60.02",
         "45.49",
         "86.99",
         "22.28",
         "23.0",
         "2",
         "20",
         "1",
         "96.64",
         "24.96",
         "81.73",
         "53.95",
         "15.56",
         "23.91",
         "2",
         "20",
         "1",
         "91.6",
         "13.74",
         "75.07",
         "51.83",
         "29.9",
         "37.84",
         "2",
         "20",
         "1",
         "90.26",
         "15.61",
         "81.73",
         "53.95",
         "0.37",
         "16.59",
         "2",
         "20",
         "1",
         "92.16",
         "20.55",
         "75.07",
         "51.83",
         "20.13",
         "28.14",
         "2",
         "20",
         "1",
         "96.05",
         "21.7",
         "86.23",
         "70.62",
         "19.24",
         "26.14",
         "2",
         "20",
         "1",
         "95.9",
         "18.93",
         "0.97",
         "21.33",
         "31.82",
         "2",
         "0.21",
         "0.0",
         "800000"
        ]
       ],
       "shape": {
        "columns": 100,
        "rows": 5
       }
      },
      "text/html": [
       "<div>\n",
       "<style scoped>\n",
       "    .dataframe tbody tr th:only-of-type {\n",
       "        vertical-align: middle;\n",
       "    }\n",
       "\n",
       "    .dataframe tbody tr th {\n",
       "        vertical-align: top;\n",
       "    }\n",
       "\n",
       "    .dataframe thead th {\n",
       "        text-align: right;\n",
       "    }\n",
       "</style>\n",
       "<table border=\"1\" class=\"dataframe\">\n",
       "  <thead>\n",
       "    <tr style=\"text-align: right;\">\n",
       "      <th></th>\n",
       "      <th>State</th>\n",
       "      <th>REGION</th>\n",
       "      <th>SEX</th>\n",
       "      <th>CITY</th>\n",
       "      <th>DISTRICT</th>\n",
       "      <th>VILLAGE</th>\n",
       "      <th>MARITAL_STATUS</th>\n",
       "      <th>Ownership</th>\n",
       "      <th>No_of_Active_Loan_In_Bureau</th>\n",
       "      <th>Non_Agriculture_Income</th>\n",
       "      <th>...</th>\n",
       "      <th>Rabi Seasons Agro Ecological Sub Zone in 2020</th>\n",
       "      <th>Rabi Seasons Seasonal average groundwater thickness (cm) in 2020</th>\n",
       "      <th>Rabi Seasons Seasonal average groundwater replenishment rate (cm) in 2020</th>\n",
       "      <th>Night light index</th>\n",
       "      <th>Village score based on socio-economic parameters (Non normalised)</th>\n",
       "      <th>Village score based on socio-economic parameters (0 to 100)</th>\n",
       "      <th>Village category based on socio-economic parameters (Good, Average, Poor)</th>\n",
       "      <th>Land Holding Index source (Total Agri Area/ no of people)</th>\n",
       "      <th>Road density (Km/ SqKm)</th>\n",
       "      <th>Target_Variable/Total Income</th>\n",
       "    </tr>\n",
       "  </thead>\n",
       "  <tbody>\n",
       "    <tr>\n",
       "      <th>0</th>\n",
       "      <td>9</td>\n",
       "      <td>0</td>\n",
       "      <td>1</td>\n",
       "      <td>224</td>\n",
       "      <td>294</td>\n",
       "      <td>4261</td>\n",
       "      <td>0</td>\n",
       "      <td>3</td>\n",
       "      <td>0</td>\n",
       "      <td>100000.0</td>\n",
       "      <td>...</td>\n",
       "      <td>1</td>\n",
       "      <td>97.24</td>\n",
       "      <td>19.50</td>\n",
       "      <td>0.95</td>\n",
       "      <td>22.38</td>\n",
       "      <td>33.53</td>\n",
       "      <td>2</td>\n",
       "      <td>0.77</td>\n",
       "      <td>0.00</td>\n",
       "      <td>1360000</td>\n",
       "    </tr>\n",
       "    <tr>\n",
       "      <th>1</th>\n",
       "      <td>2</td>\n",
       "      <td>1</td>\n",
       "      <td>1</td>\n",
       "      <td>193</td>\n",
       "      <td>246</td>\n",
       "      <td>3407</td>\n",
       "      <td>0</td>\n",
       "      <td>3</td>\n",
       "      <td>1</td>\n",
       "      <td>500000.0</td>\n",
       "      <td>...</td>\n",
       "      <td>2</td>\n",
       "      <td>73.96</td>\n",
       "      <td>16.76</td>\n",
       "      <td>0.97</td>\n",
       "      <td>24.63</td>\n",
       "      <td>37.17</td>\n",
       "      <td>2</td>\n",
       "      <td>0.45</td>\n",
       "      <td>0.00</td>\n",
       "      <td>807200</td>\n",
       "    </tr>\n",
       "    <tr>\n",
       "      <th>2</th>\n",
       "      <td>9</td>\n",
       "      <td>0</td>\n",
       "      <td>1</td>\n",
       "      <td>1394</td>\n",
       "      <td>230</td>\n",
       "      <td>938</td>\n",
       "      <td>0</td>\n",
       "      <td>3</td>\n",
       "      <td>14</td>\n",
       "      <td>492500.0</td>\n",
       "      <td>...</td>\n",
       "      <td>0</td>\n",
       "      <td>90.05</td>\n",
       "      <td>22.44</td>\n",
       "      <td>0.95</td>\n",
       "      <td>19.49</td>\n",
       "      <td>28.85</td>\n",
       "      <td>2</td>\n",
       "      <td>0.66</td>\n",
       "      <td>0.00</td>\n",
       "      <td>500000</td>\n",
       "    </tr>\n",
       "    <tr>\n",
       "      <th>3</th>\n",
       "      <td>10</td>\n",
       "      <td>4</td>\n",
       "      <td>1</td>\n",
       "      <td>1997</td>\n",
       "      <td>212</td>\n",
       "      <td>4043</td>\n",
       "      <td>0</td>\n",
       "      <td>3</td>\n",
       "      <td>0</td>\n",
       "      <td>40000.0</td>\n",
       "      <td>...</td>\n",
       "      <td>3</td>\n",
       "      <td>94.64</td>\n",
       "      <td>21.48</td>\n",
       "      <td>0.98</td>\n",
       "      <td>31.84</td>\n",
       "      <td>48.85</td>\n",
       "      <td>0</td>\n",
       "      <td>0.24</td>\n",
       "      <td>2.49</td>\n",
       "      <td>558000</td>\n",
       "    </tr>\n",
       "    <tr>\n",
       "      <th>4</th>\n",
       "      <td>9</td>\n",
       "      <td>0</td>\n",
       "      <td>0</td>\n",
       "      <td>1184</td>\n",
       "      <td>311</td>\n",
       "      <td>4376</td>\n",
       "      <td>0</td>\n",
       "      <td>3</td>\n",
       "      <td>3</td>\n",
       "      <td>150000.0</td>\n",
       "      <td>...</td>\n",
       "      <td>1</td>\n",
       "      <td>95.90</td>\n",
       "      <td>18.93</td>\n",
       "      <td>0.97</td>\n",
       "      <td>21.33</td>\n",
       "      <td>31.82</td>\n",
       "      <td>2</td>\n",
       "      <td>0.21</td>\n",
       "      <td>0.00</td>\n",
       "      <td>800000</td>\n",
       "    </tr>\n",
       "  </tbody>\n",
       "</table>\n",
       "<p>5 rows × 100 columns</p>\n",
       "</div>"
      ],
      "text/plain": [
       "   State  REGION  SEX  CITY  DISTRICT  VILLAGE  MARITAL_STATUS  Ownership  \\\n",
       "0      9       0    1   224       294     4261               0          3   \n",
       "1      2       1    1   193       246     3407               0          3   \n",
       "2      9       0    1  1394       230      938               0          3   \n",
       "3     10       4    1  1997       212     4043               0          3   \n",
       "4      9       0    0  1184       311     4376               0          3   \n",
       "\n",
       "   No_of_Active_Loan_In_Bureau  Non_Agriculture_Income  ...  \\\n",
       "0                            0                100000.0  ...   \n",
       "1                            1                500000.0  ...   \n",
       "2                           14                492500.0  ...   \n",
       "3                            0                 40000.0  ...   \n",
       "4                            3                150000.0  ...   \n",
       "\n",
       "   Rabi Seasons Agro Ecological Sub Zone in 2020  \\\n",
       "0                                              1   \n",
       "1                                              2   \n",
       "2                                              0   \n",
       "3                                              3   \n",
       "4                                              1   \n",
       "\n",
       "   Rabi Seasons Seasonal average groundwater thickness (cm) in 2020  \\\n",
       "0                                              97.24                  \n",
       "1                                              73.96                  \n",
       "2                                              90.05                  \n",
       "3                                              94.64                  \n",
       "4                                              95.90                  \n",
       "\n",
       "   Rabi Seasons Seasonal average groundwater replenishment rate (cm) in 2020  \\\n",
       "0                                              19.50                           \n",
       "1                                              16.76                           \n",
       "2                                              22.44                           \n",
       "3                                              21.48                           \n",
       "4                                              18.93                           \n",
       "\n",
       "    Night light index  \\\n",
       "0                0.95   \n",
       "1                0.97   \n",
       "2                0.95   \n",
       "3                0.98   \n",
       "4                0.97   \n",
       "\n",
       "    Village score based on socio-economic parameters (Non normalised)  \\\n",
       "0                                              22.38                    \n",
       "1                                              24.63                    \n",
       "2                                              19.49                    \n",
       "3                                              31.84                    \n",
       "4                                              21.33                    \n",
       "\n",
       "    Village score based on socio-economic parameters (0 to 100)  \\\n",
       "0                                              33.53              \n",
       "1                                              37.17              \n",
       "2                                              28.85              \n",
       "3                                              48.85              \n",
       "4                                              31.82              \n",
       "\n",
       "    Village category based on socio-economic parameters (Good, Average, Poor)  \\\n",
       "0                                                  2                            \n",
       "1                                                  2                            \n",
       "2                                                  2                            \n",
       "3                                                  0                            \n",
       "4                                                  2                            \n",
       "\n",
       "    Land Holding Index source (Total Agri Area/ no of people)  \\\n",
       "0                                               0.77            \n",
       "1                                               0.45            \n",
       "2                                               0.66            \n",
       "3                                               0.24            \n",
       "4                                               0.21            \n",
       "\n",
       "    Road density (Km/ SqKm)  Target_Variable/Total Income  \n",
       "0                      0.00                       1360000  \n",
       "1                      0.00                        807200  \n",
       "2                      0.00                        500000  \n",
       "3                      2.49                        558000  \n",
       "4                      0.00                        800000  \n",
       "\n",
       "[5 rows x 100 columns]"
      ]
     },
     "execution_count": 9,
     "metadata": {},
     "output_type": "execute_result"
    }
   ],
   "source": [
    "df.head()"
   ]
  },
  {
   "cell_type": "code",
   "execution_count": 8,
   "id": "3bc3617b",
   "metadata": {},
   "outputs": [
    {
     "name": "stdout",
     "output_type": "stream",
     "text": [
      "Total_Land_For_Agriculture                                             0.213888\n",
      "No_of_Active_Loan_In_Bureau                                            0.134689\n",
      "Ownership                                                              0.108851\n",
      "DISTRICT                                                               0.021735\n",
      "MARITAL_STATUS                                                         0.019192\n",
      "K022-Net Agri area (% of total geog area)-                             0.018556\n",
      "VILLAGE                                                                0.017863\n",
      "CITY                                                                   0.016437\n",
      " Road density (Km/ SqKm)                                               0.016087\n",
      "perc_of_pop_living_in_hh_electricity                                   0.014260\n",
      "K021-Seasonal Average Rainfall (mm)                                    0.012103\n",
      "Women_15_19_Mothers_or_Pregnant_at_time_of_survey                      0.012028\n",
      "SEX                                                                    0.011748\n",
      "Rabi Seasons Agricultural Score in 2020                                0.011613\n",
      "mat_roof_Metal_GI_Asbestos_sheets                                      0.011379\n",
      "Kharif Seasons  Seasonal average groundwater thickness (cm) in 2022    0.011302\n",
      " Land Holding Index source (Total Agri Area/ no of people)             0.010616\n",
      "R021-Ambient temperature (min & max)                                   0.010252\n",
      "Rabi Seasons Kharif Season Irrigated area in 2020                      0.010214\n",
      "perc_Households_do_not_have_KCC_With_The_Credit_Limit_Of_50k           0.009295\n",
      "dtype: float64\n"
     ]
    }
   ],
   "source": [
    "from sklearn.ensemble import RandomForestRegressor\n",
    "\n",
    "X = df.drop(['Target_Variable/Total Income','Non_Agriculture_Income'], axis=1)\n",
    "y = df['Target_Variable/Total Income']\n",
    "\n",
    "model = RandomForestRegressor()\n",
    "model.fit(X, y)\n",
    "\n",
    "importances = pd.Series(model.feature_importances_, index=X.columns)\n",
    "important_feats = importances.sort_values(ascending=False)\n",
    "print(important_feats.head(20))  # Top 20 features\n"
   ]
  },
  {
   "cell_type": "code",
   "execution_count": 9,
   "id": "c2d3da93",
   "metadata": {},
   "outputs": [],
   "source": [
    "top_feats = importances[importances > 0.008].index.tolist()\n"
   ]
  },
  {
   "cell_type": "code",
   "execution_count": 58,
   "id": "4d449bbd",
   "metadata": {},
   "outputs": [
    {
     "data": {
      "text/plain": [
       "Index(['SEX', 'CITY', 'DISTRICT', 'VILLAGE', 'MARITAL_STATUS', 'Ownership',\n",
       "       'No_of_Active_Loan_In_Bureau', 'Total_Land_For_Agriculture',\n",
       "       'K022-Proximity to nearest railway (Km)',\n",
       "       'K021-Seasonal Average Rainfall (mm)',\n",
       "       'R021-Ambient temperature (min & max)',\n",
       "       'Women_15_19_Mothers_or_Pregnant_at_time_of_survey',\n",
       "       'perc_of_pop_living_in_hh_electricity',\n",
       "       'mat_roof_Metal_GI_Asbestos_sheets',\n",
       "       'perc_of_Wall_material_with_Burnt_brick',\n",
       "       'Households_with_improved_Sanitation_Facility',\n",
       "       'perc_Households_do_not_have_KCC_With_The_Credit_Limit_Of_50k',\n",
       "       'K022-Net Agri area (in Ha)-',\n",
       "       'K022-Net Agri area (% of total geog area)-',\n",
       "       'Kharif Seasons  Seasonal average groundwater thickness (cm) in 2022',\n",
       "       'Rabi Seasons Cropping density in 2022',\n",
       "       'Rabi Seasons Kharif Season Irrigated area in 2020',\n",
       "       'Rabi Seasons Agricultural Score in 2020',\n",
       "       ' Land Holding Index source (Total Agri Area/ no of people)',\n",
       "       ' Road density (Km/ SqKm)'],\n",
       "      dtype='object')"
      ]
     },
     "execution_count": 58,
     "metadata": {},
     "output_type": "execute_result"
    }
   ],
   "source": [
    "X_top = X[top_feats]\n",
    "X_test = test_df[top_feats]\n",
    "X_test.columns"
   ]
  },
  {
   "cell_type": "code",
   "execution_count": 11,
   "id": "9f7208bf",
   "metadata": {},
   "outputs": [
    {
     "name": "stdout",
     "output_type": "stream",
     "text": [
      "Mean MAPE (after log transform): 0.2807955701465433\n"
     ]
    }
   ],
   "source": [
    "from sklearn.model_selection import KFold\n",
    "from sklearn.metrics import mean_absolute_percentage_error\n",
    "import numpy as np\n",
    "\n",
    "kf = KFold(n_splits=5, shuffle=True, random_state=42)\n",
    "mape_scores = []\n",
    "\n",
    "for train_index, test_index in kf.split(X_top):\n",
    "    X_train, X_test = X_top.iloc[train_index], X_top.iloc[test_index]\n",
    "    y_train, y_test = y.iloc[train_index], y.iloc[test_index]\n",
    "\n",
    "    # Apply log1p transform on y_train and y_test\n",
    "    y_train_log = np.log1p(y_train)\n",
    "    \n",
    "    model.fit(X_train, y_train_log)\n",
    "\n",
    "    # Predict and reverse log transform\n",
    "    y_pred_log = model.predict(X_test)\n",
    "    y_pred = np.expm1(y_pred_log)  # back to original scale\n",
    "\n",
    "    # Avoid division by zero\n",
    "    y_test_safe = y_test.replace(0, 1e-5)\n",
    "\n",
    "    # Calculate MAPE\n",
    "    mape = mean_absolute_percentage_error(y_test_safe, y_pred)\n",
    "    mape_scores.append(mape)\n",
    "\n",
    "print(\"Mean MAPE (after log transform):\", np.mean(mape_scores))\n",
    "\n"
   ]
  },
  {
   "cell_type": "code",
   "execution_count": 12,
   "id": "bc0fffcc",
   "metadata": {},
   "outputs": [
    {
     "data": {
      "image/png": "[encoded data removed]",
      "text/plain": [
       "<Figure size 1000x400 with 1 Axes>"
      ]
     },
     "metadata": {},
     "output_type": "display_data"
    }
   ],
   "source": [
    "import seaborn as sns\n",
    "import matplotlib.pyplot as plt\n",
    "\n",
    "plt.figure(figsize=(10, 4))\n",
    "sns.boxplot(x=df['Total_Land_For_Agriculture'])\n",
    "plt.title('Boxplot of Total_Land_For_Agriculture')\n",
    "plt.show()"
   ]
  },
  {
   "cell_type": "code",
   "execution_count": 13,
   "id": "568d9939",
   "metadata": {},
   "outputs": [],
   "source": [
    "# Compute IQR bounds\n",
    "Q1 = df['Total_Land_For_Agriculture'].quantile(0.25)\n",
    "Q3 = df['Total_Land_For_Agriculture'].quantile(0.75)\n",
    "IQR = Q3 - Q1\n",
    "\n",
    "lower_bound = Q1 - 1.5 * IQR\n",
    "upper_bound = Q3 + 1.5 * IQR\n",
    "\n",
    "# Impute outliers\n",
    "df['Total_Land_For_Agriculture'] = df['Total_Land_For_Agriculture'].clip(lower=lower_bound, upper=upper_bound)\n"
   ]
  },
  {
   "cell_type": "code",
   "execution_count": 14,
   "id": "459d2986",
   "metadata": {},
   "outputs": [
    {
     "name": "stdout",
     "output_type": "stream",
     "text": [
      "Mean MAPE (after log transform): 0.2809292845825737\n"
     ]
    }
   ],
   "source": [
    "from sklearn.model_selection import KFold\n",
    "from sklearn.metrics import mean_absolute_percentage_error\n",
    "import numpy as np\n",
    "\n",
    "kf = KFold(n_splits=5, shuffle=True, random_state=42)\n",
    "mape_scores = []\n",
    "\n",
    "for train_index, test_index in kf.split(X_top):\n",
    "    X_train, X_test = X_top.iloc[train_index], X_top.iloc[test_index]\n",
    "    y_train, y_test = y.iloc[train_index], y.iloc[test_index]\n",
    "\n",
    "    # Apply log1p transform on y_train and y_test\n",
    "    y_train_log = np.log1p(y_train)\n",
    "    \n",
    "    model.fit(X_train, y_train_log)\n",
    "\n",
    "    # Predict and reverse log transform\n",
    "    y_pred_log = model.predict(X_test)\n",
    "    y_pred = np.expm1(y_pred_log)  # back to original scale\n",
    "\n",
    "    # Avoid division by zero\n",
    "    y_test_safe = y_test.replace(0, 1e-5)\n",
    "\n",
    "    # Calculate MAPE\n",
    "    mape = mean_absolute_percentage_error(y_test_safe, y_pred)\n",
    "    mape_scores.append(mape)\n",
    "\n",
    "print(\"Mean MAPE (after log transform):\", np.mean(mape_scores))\n",
    "\n"
   ]
  },
  {
   "cell_type": "code",
   "execution_count": 15,
   "id": "fade5bc3",
   "metadata": {},
   "outputs": [
    {
     "data": {
      "image/png": "[encoded data removed]",
      "text/plain": [
       "<Figure size 1000x400 with 1 Axes>"
      ]
     },
     "metadata": {},
     "output_type": "display_data"
    }
   ],
   "source": [
    "import seaborn as sns\n",
    "import matplotlib.pyplot as plt\n",
    "\n",
    "plt.figure(figsize=(10, 4))\n",
    "sns.boxplot(x=df[' Road density (Km/ SqKm)'])\n",
    "plt.title('Boxplot of  Road density (Km/ SqKm) ')\n",
    "plt.show()"
   ]
  },
  {
   "cell_type": "code",
   "execution_count": 17,
   "id": "1891ec77",
   "metadata": {},
   "outputs": [],
   "source": [
    "# Compute IQR bounds\n",
    "Q1 = df[' Road density (Km/ SqKm)'].quantile(0.25)\n",
    "Q3 = df[' Road density (Km/ SqKm)'].quantile(0.75)\n",
    "IQR = Q3 - Q1\n",
    "\n",
    "lower_bound = Q1 - 1.5 * IQR\n",
    "upper_bound = Q3 + 1.5 * IQR\n",
    "\n",
    "# Impute outliers\n",
    "df[' Road density (Km/ SqKm)'] = df[' Road density (Km/ SqKm)'].clip(lower=lower_bound, upper=upper_bound)"
   ]
  },
  {
   "cell_type": "code",
   "execution_count": 16,
   "id": "361a26e6",
   "metadata": {},
   "outputs": [
    {
     "name": "stdout",
     "output_type": "stream",
     "text": [
      "Mean MAPE (after fixing total area and road density outliers): 0.2805842697672781\n"
     ]
    }
   ],
   "source": [
    "from sklearn.model_selection import KFold\n",
    "from sklearn.metrics import mean_absolute_percentage_error\n",
    "import numpy as np\n",
    "\n",
    "kf = KFold(n_splits=5, shuffle=True, random_state=42)\n",
    "mape_scores = []\n",
    "\n",
    "for train_index, test_index in kf.split(X_top):\n",
    "    X_train, X_test = X_top.iloc[train_index], X_top.iloc[test_index]\n",
    "    y_train, y_test = y.iloc[train_index], y.iloc[test_index]\n",
    "\n",
    "    # Apply log1p transform on y_train and y_test\n",
    "    y_train_log = np.log1p(y_train)\n",
    "    \n",
    "    model.fit(X_train, y_train_log)\n",
    "\n",
    "    # Predict and reverse log transform\n",
    "    y_pred_log = model.predict(X_test)\n",
    "    y_pred = np.expm1(y_pred_log)  # back to original scale\n",
    "\n",
    "    # Avoid division by zero\n",
    "    y_test_safe = y_test.replace(0, 1e-5)\n",
    "\n",
    "    # Calculate MAPE\n",
    "    mape = mean_absolute_percentage_error(y_test_safe, y_pred)\n",
    "    mape_scores.append(mape)\n",
    "\n",
    "print(\"Mean MAPE (after fixing total area and road density outliers):\", np.mean(mape_scores))\n",
    "\n"
   ]
  },
  {
   "cell_type": "code",
   "execution_count": 18,
   "id": "48f89a3b",
   "metadata": {},
   "outputs": [
    {
     "name": "stdout",
     "output_type": "stream",
     "text": [
      "Mean MAPE (XGBoost + log1p transform): 0.26647499203681946\n"
     ]
    }
   ],
   "source": [
    "from sklearn.model_selection import KFold\n",
    "from sklearn.metrics import mean_absolute_percentage_error\n",
    "import numpy as np\n",
    "import xgboost as xgb\n",
    "\n",
    "kf = KFold(n_splits=5, shuffle=True, random_state=42)\n",
    "mape_scores = []\n",
    "\n",
    "for train_index, test_index in kf.split(X_top):\n",
    "    X_train, X_test = X_top.iloc[train_index], X_top.iloc[test_index]\n",
    "    y_train, y_test = y.iloc[train_index], y.iloc[test_index]\n",
    "\n",
    "    # Apply log1p transform to y_train\n",
    "    y_train_log = np.log1p(y_train)\n",
    "\n",
    "    # Train XGBoost regressor\n",
    "    model = xgb.XGBRegressor(objective='reg:squarederror', random_state=42, n_jobs=-1)\n",
    "    model.fit(X_train, y_train_log)\n",
    "\n",
    "    # Predict and reverse log transform\n",
    "    y_pred_log = model.predict(X_test)\n",
    "    y_pred = np.expm1(y_pred_log)\n",
    "\n",
    "    # Avoid division by zero\n",
    "    y_test_safe = y_test.replace(0, 1e-5)\n",
    "\n",
    "    # Calculate MAPE\n",
    "    mape = mean_absolute_percentage_error(y_test_safe, y_pred)\n",
    "    mape_scores.append(mape)\n",
    "\n",
    "print(\"Mean MAPE (XGBoost + log1p transform):\", np.mean(mape_scores))\n"
   ]
  },
  {
   "cell_type": "code",
   "execution_count": 19,
   "id": "22e55a6b",
   "metadata": {},
   "outputs": [
    {
     "data": {
      "image/png": "[encoded data removed]",
      "text/plain": [
       "<Figure size 1000x400 with 1 Axes>"
      ]
     },
     "metadata": {},
     "output_type": "display_data"
    }
   ],
   "source": [
    "import seaborn as sns\n",
    "import matplotlib.pyplot as plt\n",
    "\n",
    "plt.figure(figsize=(10, 4))\n",
    "sns.boxplot(x=df['K022-Net Agri area (% of total geog area)-'])\n",
    "plt.title('Boxplot of K022-Net Agri area (% of total geog area)-')\n",
    "plt.show()"
   ]
  },
  {
   "cell_type": "code",
   "execution_count": 20,
   "id": "0c6fdce9",
   "metadata": {},
   "outputs": [],
   "source": [
    "# Compute IQR bounds\n",
    "Q1 = df['K022-Net Agri area (% of total geog area)-'].quantile(0.25)\n",
    "Q3 = df['K022-Net Agri area (% of total geog area)-'].quantile(0.75)\n",
    "IQR = Q3 - Q1\n",
    "\n",
    "lower_bound = Q1 - 1.5 * IQR\n",
    "upper_bound = Q3 + 1.5 * IQR\n",
    "\n",
    "# Impute outliers\n",
    "df['K022-Net Agri area (% of total geog area)-'] = df['K022-Net Agri area (% of total geog area)-'].clip(lower=lower_bound, upper=upper_bound)"
   ]
  },
  {
   "cell_type": "code",
   "execution_count": 23,
   "id": "00cbb327",
   "metadata": {},
   "outputs": [
    {
     "name": "stdout",
     "output_type": "stream",
     "text": [
      "Mean MAPE (XGBoost + Outliers removed from net area): 0.26647499203681946\n"
     ]
    }
   ],
   "source": [
    "from sklearn.model_selection import KFold\n",
    "from sklearn.metrics import mean_absolute_percentage_error\n",
    "import numpy as np\n",
    "import xgboost as xgb\n",
    "\n",
    "kf = KFold(n_splits=5, shuffle=True, random_state=42)\n",
    "mape_scores = []\n",
    "\n",
    "for train_index, test_index in kf.split(X_top):\n",
    "    X_train, X_test = X_top.iloc[train_index], X_top.iloc[test_index]\n",
    "    y_train, y_test = y.iloc[train_index], y.iloc[test_index]\n",
    "\n",
    "    # Apply log1p transform to y_train\n",
    "    y_train_log = np.log1p(y_train)\n",
    "\n",
    "    # Train XGBoost regressor\n",
    "    model = xgb.XGBRegressor(objective='reg:squarederror', random_state=42, n_jobs=-1)\n",
    "    model.fit(X_train, y_train_log)\n",
    "\n",
    "    # Predict and reverse log transform\n",
    "    y_pred_log = model.predict(X_test)\n",
    "    y_pred = np.expm1(y_pred_log)\n",
    "\n",
    "    # Avoid division by zero\n",
    "    y_test_safe = y_test.replace(0, 1e-5)\n",
    "\n",
    "    # Calculate MAPE\n",
    "    mape = mean_absolute_percentage_error(y_test_safe, y_pred)\n",
    "    mape_scores.append(mape)\n",
    "\n",
    "print(\"Mean MAPE (XGBoost + Outliers removed from net area):\", np.mean(mape_scores))\n"
   ]
  },
  {
   "cell_type": "code",
   "execution_count": 29,
   "id": "ca51c456",
   "metadata": {},
   "outputs": [
    {
     "name": "stdout",
     "output_type": "stream",
     "text": [
      "SEX                                                                    0\n",
      "CITY                                                                   0\n",
      "DISTRICT                                                               0\n",
      "VILLAGE                                                                0\n",
      "MARITAL_STATUS                                                         0\n",
      "Ownership                                                              0\n",
      "No_of_Active_Loan_In_Bureau                                            0\n",
      "Total_Land_For_Agriculture                                             0\n",
      "K022-Proximity to nearest railway (Km)                                 0\n",
      "K021-Seasonal Average Rainfall (mm)                                    0\n",
      "R021-Ambient temperature (min & max)                                   0\n",
      "K022-Net Agri area (in Ha)-                                            0\n",
      "K022-Net Agri area (% of total geog area)-                             0\n",
      "Kharif Seasons  Seasonal average groundwater thickness (cm) in 2022    0\n",
      "Rabi Seasons Cropping density in 2022                                  0\n",
      "Rabi Seasons Kharif Season Irrigated area in 2020                      0\n",
      "Rabi Seasons Agricultural Score in 2020                                0\n",
      " Land Holding Index source (Total Agri Area/ no of people)             0\n",
      " Road density (Km/ SqKm)                                               0\n",
      "dtype: int64\n"
     ]
    }
   ],
   "source": [
    "# Drop columns with exactly 157 missing values\n",
    "missing_157_cols = X_top.columns[X_top.isnull().sum() == 157]\n",
    "X_top = X_top.drop(columns=missing_157_cols)\n",
    "\n",
    "# Impute missing values in 'Total_Land_For_Agriculture' with its mean\n",
    "X_top['Total_Land_For_Agriculture'] = X_top['Total_Land_For_Agriculture'].fillna(X_top['Total_Land_For_Agriculture'].mean())\n",
    "\n",
    "print(X_top.isnull().sum())\n"
   ]
  },
  {
   "cell_type": "code",
   "execution_count": 22,
   "id": "163489c0",
   "metadata": {},
   "outputs": [
    {
     "data": {
      "image/png": "[encoded data removed]",
      "text/plain": [
       "<Figure size 640x480 with 1 Axes>"
      ]
     },
     "metadata": {},
     "output_type": "display_data"
    }
   ],
   "source": [
    "import matplotlib.pyplot as plt\n",
    "\n",
    "df['income_per_acre'] = df['Target_Variable/Total Income'] / df['Total_Land_For_Agriculture'].replace(0, 1e-5)\n",
    "upper_cap = df['income_per_acre'].quantile(0.99)\n",
    "df['income_per_acre'] = np.where(df['income_per_acre'] > upper_cap, upper_cap, df['income_per_acre'])\n",
    "\n",
    "plt.scatter(df['income_per_acre'], df['Target_Variable/Total Income'])\n",
    "plt.xlabel(\"Income per Acre\")\n",
    "plt.ylabel(\"Total Income\")\n",
    "plt.show()\n"
   ]
  },
  {
   "cell_type": "code",
   "execution_count": 31,
   "id": "929c3fb4",
   "metadata": {},
   "outputs": [
    {
     "name": "stdout",
     "output_type": "stream",
     "text": [
      "Mean MAPE (XGBoost + Outliers removed from net area+income per acre): 0.01695384494960308\n"
     ]
    }
   ],
   "source": [
    "from sklearn.model_selection import KFold\n",
    "from sklearn.metrics import mean_absolute_percentage_error\n",
    "import numpy as np\n",
    "import xgboost as xgb\n",
    "\n",
    "kf = KFold(n_splits=5, shuffle=True, random_state=42)\n",
    "mape_scores = []\n",
    "X_top['income_per_acre'] = df['Target_Variable/Total Income'] / df['Total_Land_For_Agriculture'].replace(0, 1e-5)\n",
    "for train_index, test_index in kf.split(X_top):\n",
    "    X_train, X_test = X_top.iloc[train_index], X_top.iloc[test_index]\n",
    "    y_train, y_test = y.iloc[train_index], y.iloc[test_index]\n",
    "\n",
    "    # Apply log1p transform to y_train\n",
    "    y_train_log = np.log1p(y_train)\n",
    "\n",
    "    # Train XGBoost regressor\n",
    "    model = xgb.XGBRegressor(objective='reg:squarederror', random_state=42, n_jobs=-1)\n",
    "    model.fit(X_train, y_train_log)\n",
    "\n",
    "    # Predict and reverse log transform\n",
    "    y_pred_log = model.predict(X_test)\n",
    "    y_pred = np.expm1(y_pred_log)\n",
    "\n",
    "    # Avoid division by zero\n",
    "    y_test_safe = y_test.replace(0, 1e-5)\n",
    "\n",
    "    # Calculate MAPE\n",
    "    mape = mean_absolute_percentage_error(y_test_safe, y_pred)\n",
    "    mape_scores.append(mape)\n",
    "\n",
    "print(\"Mean MAPE (XGBoost + Outliers removed from net area+income per acre):\", np.mean(mape_scores))\n"
   ]
  },
  {
   "cell_type": "code",
   "execution_count": 32,
   "id": "f40245bf",
   "metadata": {},
   "outputs": [
    {
     "name": "stdout",
     "output_type": "stream",
     "text": [
      "Mean MAPE (XGBoost + Outliers removed from net area+income per acre+total land): 0.016722046583890916\n"
     ]
    }
   ],
   "source": [
    "from sklearn.model_selection import KFold\n",
    "from sklearn.metrics import mean_absolute_percentage_error\n",
    "import numpy as np\n",
    "import xgboost as xgb\n",
    "\n",
    "kf = KFold(n_splits=5, shuffle=True, random_state=42)\n",
    "mape_scores = []\n",
    "X_top['income_per_acre'] = df['Target_Variable/Total Income'] / df['Total_Land_For_Agriculture'].replace(0, 1e-5)\n",
    "X_top['total_land']=df['Total_Land_For_Agriculture'].replace(0, 1e-5)*df[' Road density (Km/ SqKm)'].replace(0, 1e-5)\n",
    "for train_index, test_index in kf.split(X_top):\n",
    "    X_train, X_test = X_top.iloc[train_index], X_top.iloc[test_index]\n",
    "    y_train, y_test = y.iloc[train_index], y.iloc[test_index]\n",
    "\n",
    "    # Apply log1p transform to y_train\n",
    "    y_train_log = np.log1p(y_train)\n",
    "\n",
    "    # Train XGBoost regressor\n",
    "    model = xgb.XGBRegressor(objective='reg:squarederror', random_state=42, n_jobs=-1)\n",
    "    model.fit(X_train, y_train_log)\n",
    "\n",
    "    # Predict and reverse log transform\n",
    "    y_pred_log = model.predict(X_test)\n",
    "    y_pred = np.expm1(y_pred_log)\n",
    "\n",
    "    # Avoid division by zero\n",
    "    y_test_safe = y_test.replace(0, 1e-5)\n",
    "\n",
    "    # Calculate MAPE\n",
    "    mape = mean_absolute_percentage_error(y_test_safe, y_pred)\n",
    "    mape_scores.append(mape)\n",
    "\n",
    "print(\"Mean MAPE (XGBoost + Outliers removed from net area+income per acre+total land):\", np.mean(mape_scores))\n"
   ]
  },
  {
   "cell_type": "code",
   "execution_count": 39,
   "id": "e93dcf69",
   "metadata": {},
   "outputs": [
    {
     "data": {
      "text/plain": [
       "Index(['SEX', 'CITY', 'DISTRICT', 'VILLAGE', 'MARITAL_STATUS', 'Ownership',\n",
       "       'No_of_Active_Loan_In_Bureau', 'Total_Land_For_Agriculture',\n",
       "       'K022-Proximity to nearest railway (Km)',\n",
       "       'K021-Seasonal Average Rainfall (mm)',\n",
       "       'R021-Ambient temperature (min & max)', 'K022-Net Agri area (in Ha)-',\n",
       "       'K022-Net Agri area (% of total geog area)-',\n",
       "       'Kharif Seasons  Seasonal average groundwater thickness (cm) in 2022',\n",
       "       'Rabi Seasons Cropping density in 2022',\n",
       "       'Rabi Seasons Kharif Season Irrigated area in 2020',\n",
       "       'Rabi Seasons Agricultural Score in 2020',\n",
       "       ' Land Holding Index source (Total Agri Area/ no of people)',\n",
       "       ' Road density (Km/ SqKm)', 'income_per_acre', 'total_land'],\n",
       "      dtype='object')"
      ]
     },
     "execution_count": 39,
     "metadata": {},
     "output_type": "execute_result"
    }
   ],
   "source": [
    "X_top.columns"
   ]
  },
  {
   "cell_type": "code",
   "execution_count": null,
   "id": "f48a64a0",
   "metadata": {},
   "outputs": [
    {
     "name": "stdout",
     "output_type": "stream",
     "text": [
      "Mean MAPE (XGBoost + Outliers removed from net area+income per acre+total land+effecitve usage value): 0.0163941852748394\n"
     ]
    }
   ],
   "source": [
    "\n",
    "from sklearn.model_selection import KFold\n",
    "from sklearn.metrics import mean_absolute_percentage_error\n",
    "import numpy as np\n",
    "import xgboost as xgb\n",
    "\n",
    "kf = KFold(n_splits=5, shuffle=True, random_state=42)\n",
    "mape_scores = []\n",
    "X_top['income_per_acre'] = df['Target_Variable/Total Income'] / df['Total_Land_For_Agriculture'].replace(0, 1e-5)\n",
    "X_top['total_land']=df['Total_Land_For_Agriculture'].replace(0, 1e-5)*df[' Road density (Km/ SqKm)'].replace(0, 1e-5)\n",
    "X_top['Effective_usage']=X_top['Total_Land_For_Agriculture'].replace(0, 1e-5) / X_top['K022-Net Agri area (% of total geog area)-'].replace(0, 1e-5)\n",
    "for train_index, test_index in kf.split(X_top):\n",
    "    X_train, X_test = X_top.iloc[train_index], X_top.iloc[test_index]\n",
    "    y_train, y_test = y.iloc[train_index], y.iloc[test_index]\n",
    "\n",
    "    # Apply log1p transform to y_train\n",
    "    y_train_log = np.log1p(y_train)\n",
    "\n",
    "    # Train XGBoost regressor\n",
    "    model = xgb.XGBRegressor(objective='reg:squarederror', random_state=42, n_jobs=-1)\n",
    "    model.fit(X_train, y_train_log)\n",
    "\n",
    "    # Predict and reverse log transform\n",
    "    y_pred_log = model.predict(X_test)\n",
    "    y_pred = np.expm1(y_pred_log)\n",
    "  \n",
    "    # Avoid division by zero\n",
    "    y_test_safe = y_test.replace(0, 1e-5)\n",
    "\n",
    "    # Calculate MAPE\n",
    "    mape = mean_absolute_percentage_error(y_test_safe, y_pred)\n",
    "    mape_scores.append(mape)\n",
    "\n",
    "print(\"Mean MAPE (XGBoost + Outliers removed from net area+income per acre+total land+effecitve usage value):\", np.mean(mape_scores))\n"
   ]
  },
  {
   "cell_type": "code",
   "execution_count": 44,
   "id": "0c49b88e",
   "metadata": {},
   "outputs": [
    {
     "name": "stdout",
     "output_type": "stream",
     "text": [
      "Mean MAPE (XGBoost + Outliers removed from net area+income per acre+total land+effecitve usage value+productivity with elecvtricity): 0.018068493530154228\n"
     ]
    }
   ],
   "source": [
    "\n",
    "from sklearn.model_selection import KFold\n",
    "from sklearn.metrics import mean_absolute_percentage_error\n",
    "import numpy as np\n",
    "import xgboost as xgb\n",
    "\n",
    "kf = KFold(n_splits=5, shuffle=True, random_state=42)\n",
    "mape_scores = []\n",
    "X_top['income_per_acre'] = df['Target_Variable/Total Income'] / df['Total_Land_For_Agriculture'].replace(0, 1e-5)\n",
    "X_top['total_land']=df['Total_Land_For_Agriculture'].replace(0, 1e-5)*df[' Road density (Km/ SqKm)'].replace(0, 1e-5)\n",
    "X_top['Effective_usage']=X_top['Total_Land_For_Agriculture'].replace(0, 1e-5) / X_top['K022-Net Agri area (% of total geog area)-'].replace(0, 1e-5)\n",
    "X_top['Credit_Access_Impact']=(1-df['perc_Households_do_not_have_KCC_With_The_Credit_Limit_Of_50k'])*X_top['income_per_acre'].replace(0, 1e-5)\n",
    "for train_index, test_index in kf.split(X_top):\n",
    "    X_train, X_test = X_top.iloc[train_index], X_top.iloc[test_index]\n",
    "    y_train, y_test = y.iloc[train_index], y.iloc[test_index]\n",
    "\n",
    "    # Apply log1p transform to y_train\n",
    "    y_train_log = np.log1p(y_train)\n",
    "\n",
    "    # Train XGBoost regressor\n",
    "    model = xgb.XGBRegressor(objective='reg:squarederror', random_state=42, n_jobs=-1)\n",
    "    model.fit(X_train, y_train_log)\n",
    "\n",
    "    # Predict and reverse log transform\n",
    "    y_pred_log = model.predict(X_test)\n",
    "    y_pred = np.expm1(y_pred_log)\n",
    "\n",
    "    # Avoid division by zero\n",
    "    y_test_safe = y_test.replace(0, 1e-5)\n",
    "\n",
    "    # Calculate MAPE\n",
    "    mape = mean_absolute_percentage_error(y_test_safe, y_pred)\n",
    "    mape_scores.append(mape)\n",
    "\n",
    "print(\"Mean MAPE (XGBoost + Outliers removed from net area+income per acre+total land+effecitve usage value+productivity with elecvtricity):\", np.mean(mape_scores))\n"
   ]
  },
  {
   "cell_type": "code",
   "execution_count": 59,
   "id": "8e8c2ebd",
   "metadata": {},
   "outputs": [
    {
     "data": {
      "text/plain": [
       "Index(['SEX', 'CITY', 'DISTRICT', 'VILLAGE', 'MARITAL_STATUS', 'Ownership',\n",
       "       'No_of_Active_Loan_In_Bureau', 'Total_Land_For_Agriculture',\n",
       "       'K022-Proximity to nearest railway (Km)',\n",
       "       'K021-Seasonal Average Rainfall (mm)',\n",
       "       'R021-Ambient temperature (min & max)',\n",
       "       'Women_15_19_Mothers_or_Pregnant_at_time_of_survey',\n",
       "       'perc_of_pop_living_in_hh_electricity',\n",
       "       'mat_roof_Metal_GI_Asbestos_sheets',\n",
       "       'perc_of_Wall_material_with_Burnt_brick',\n",
       "       'Households_with_improved_Sanitation_Facility',\n",
       "       'perc_Households_do_not_have_KCC_With_The_Credit_Limit_Of_50k',\n",
       "       'K022-Net Agri area (in Ha)-',\n",
       "       'K022-Net Agri area (% of total geog area)-',\n",
       "       'Kharif Seasons  Seasonal average groundwater thickness (cm) in 2022',\n",
       "       'Rabi Seasons Cropping density in 2022',\n",
       "       'Rabi Seasons Kharif Season Irrigated area in 2020',\n",
       "       'Rabi Seasons Agricultural Score in 2020',\n",
       "       ' Land Holding Index source (Total Agri Area/ no of people)',\n",
       "       ' Road density (Km/ SqKm)'],\n",
       "      dtype='object')"
      ]
     },
     "execution_count": 59,
     "metadata": {},
     "output_type": "execute_result"
    }
   ],
   "source": [
    "\n",
    "y_test = test_df['Target_Variable/Total Income']\n",
    "X_test.columns"
   ]
  },
  {
   "cell_type": "code",
   "execution_count": 61,
   "id": "2801b4f9",
   "metadata": {},
   "outputs": [
    {
     "name": "stderr",
     "output_type": "stream",
     "text": [
      "C:\\Users\\Maurya\\AppData\\Local\\Temp\\ipykernel_19204\\281196232.py:8: SettingWithCopyWarning: \n",
      "A value is trying to be set on a copy of a slice from a DataFrame.\n",
      "Try using .loc[row_indexer,col_indexer] = value instead\n",
      "\n",
      "See the caveats in the documentation: https://pandas.pydata.org/pandas-docs/stable/user_guide/indexing.html#returning-a-view-versus-a-copy\n",
      "  X_top['income_per_acre'] = df['Target_Variable/Total Income'] / df['Total_Land_For_Agriculture'].replace(0, 1e-5)\n",
      "C:\\Users\\Maurya\\AppData\\Local\\Temp\\ipykernel_19204\\281196232.py:9: SettingWithCopyWarning: \n",
      "A value is trying to be set on a copy of a slice from a DataFrame.\n",
      "Try using .loc[row_indexer,col_indexer] = value instead\n",
      "\n",
      "See the caveats in the documentation: https://pandas.pydata.org/pandas-docs/stable/user_guide/indexing.html#returning-a-view-versus-a-copy\n",
      "  X_top['total_land']=df['Total_Land_For_Agriculture'].replace(0, 1e-5)*df[' Road density (Km/ SqKm)'].replace(0, 1e-5)\n",
      "C:\\Users\\Maurya\\AppData\\Local\\Temp\\ipykernel_19204\\281196232.py:10: SettingWithCopyWarning: \n",
      "A value is trying to be set on a copy of a slice from a DataFrame.\n",
      "Try using .loc[row_indexer,col_indexer] = value instead\n",
      "\n",
      "See the caveats in the documentation: https://pandas.pydata.org/pandas-docs/stable/user_guide/indexing.html#returning-a-view-versus-a-copy\n",
      "  X_top['Effective_usage']=X_top['Total_Land_For_Agriculture'].replace(0, 1e-5) / X_top['K022-Net Agri area (% of total geog area)-'].replace(0, 1e-5)\n",
      "C:\\Users\\Maurya\\AppData\\Local\\Temp\\ipykernel_19204\\281196232.py:11: SettingWithCopyWarning: \n",
      "A value is trying to be set on a copy of a slice from a DataFrame.\n",
      "Try using .loc[row_indexer,col_indexer] = value instead\n",
      "\n",
      "See the caveats in the documentation: https://pandas.pydata.org/pandas-docs/stable/user_guide/indexing.html#returning-a-view-versus-a-copy\n",
      "  X_top['Credit_Access_Impact']=(1-df['perc_Households_do_not_have_KCC_With_The_Credit_Limit_Of_50k'])*X_top['income_per_acre'].replace(0, 1e-5)\n",
      "C:\\Users\\Maurya\\AppData\\Local\\Temp\\ipykernel_19204\\281196232.py:12: SettingWithCopyWarning: \n",
      "A value is trying to be set on a copy of a slice from a DataFrame.\n",
      "Try using .loc[row_indexer,col_indexer] = value instead\n",
      "\n",
      "See the caveats in the documentation: https://pandas.pydata.org/pandas-docs/stable/user_guide/indexing.html#returning-a-view-versus-a-copy\n",
      "  X_test['income_per_acre'] = test_df['Target_Variable/Total Income'] / test_df['Total_Land_For_Agriculture'].replace(0, 1e-5)\n",
      "C:\\Users\\Maurya\\AppData\\Local\\Temp\\ipykernel_19204\\281196232.py:13: SettingWithCopyWarning: \n",
      "A value is trying to be set on a copy of a slice from a DataFrame.\n",
      "Try using .loc[row_indexer,col_indexer] = value instead\n",
      "\n",
      "See the caveats in the documentation: https://pandas.pydata.org/pandas-docs/stable/user_guide/indexing.html#returning-a-view-versus-a-copy\n",
      "  X_test['total_land']=test_df['Total_Land_For_Agriculture'].replace(0, 1e-5)*test_df[' Road density (Km/ SqKm)'].replace(0, 1e-5)\n",
      "C:\\Users\\Maurya\\AppData\\Local\\Temp\\ipykernel_19204\\281196232.py:14: SettingWithCopyWarning: \n",
      "A value is trying to be set on a copy of a slice from a DataFrame.\n",
      "Try using .loc[row_indexer,col_indexer] = value instead\n",
      "\n",
      "See the caveats in the documentation: https://pandas.pydata.org/pandas-docs/stable/user_guide/indexing.html#returning-a-view-versus-a-copy\n",
      "  X_test['Effective_usage']=X_test['Total_Land_For_Agriculture'].replace(0, 1e-5) / X_test['K022-Net Agri area (% of total geog area)-'].replace(0, 1e-5)\n",
      "C:\\Users\\Maurya\\AppData\\Local\\Temp\\ipykernel_19204\\281196232.py:15: SettingWithCopyWarning: \n",
      "A value is trying to be set on a copy of a slice from a DataFrame.\n",
      "Try using .loc[row_indexer,col_indexer] = value instead\n",
      "\n",
      "See the caveats in the documentation: https://pandas.pydata.org/pandas-docs/stable/user_guide/indexing.html#returning-a-view-versus-a-copy\n",
      "  X_test['Credit_Access_Impact']=(1-test_df['perc_Households_do_not_have_KCC_With_The_Credit_Limit_Of_50k'])*X_test['income_per_acre'].replace(0, 1e-5)\n"
     ]
    },
    {
     "name": "stdout",
     "output_type": "stream",
     "text": [
      "Mean MAPE (XGBoost + Outliers removed from net area+income per acre+total land+effecitve usage value+productivity with elecvtricity): 0.011231845244765282\n"
     ]
    }
   ],
   "source": [
    "\n",
    "from sklearn.model_selection import KFold\n",
    "from sklearn.metrics import mean_absolute_percentage_error\n",
    "import numpy as np\n",
    "import xgboost as xgb\n",
    "\n",
    "kf = KFold(n_splits=5, shuffle=True, random_state=42)\n",
    "mape_scores = []\n",
    "X_top['income_per_acre'] = df['Target_Variable/Total Income'] / df['Total_Land_For_Agriculture'].replace(0, 1e-5)\n",
    "X_top['total_land']=df['Total_Land_For_Agriculture'].replace(0, 1e-5)*df[' Road density (Km/ SqKm)'].replace(0, 1e-5)\n",
    "X_top['Effective_usage']=X_top['Total_Land_For_Agriculture'].replace(0, 1e-5) / X_top['K022-Net Agri area (% of total geog area)-'].replace(0, 1e-5)\n",
    "X_top['Credit_Access_Impact']=(1-df['perc_Households_do_not_have_KCC_With_The_Credit_Limit_Of_50k'])*X_top['income_per_acre'].replace(0, 1e-5)\n",
    "X_test['income_per_acre'] = test_df['Target_Variable/Total Income'] / test_df['Total_Land_For_Agriculture'].replace(0, 1e-5)\n",
    "X_test['total_land']=test_df['Total_Land_For_Agriculture'].replace(0, 1e-5)*test_df[' Road density (Km/ SqKm)'].replace(0, 1e-5)\n",
    "X_test['Effective_usage']=X_test['Total_Land_For_Agriculture'].replace(0, 1e-5) / X_test['K022-Net Agri area (% of total geog area)-'].replace(0, 1e-5)\n",
    "X_test['Credit_Access_Impact']=(1-test_df['perc_Households_do_not_have_KCC_With_The_Credit_Limit_Of_50k'])*X_test['income_per_acre'].replace(0, 1e-5)\n",
    "X_train = X_top.iloc[train_index]\n",
    "y_train = y.iloc[train_index]\n",
    "\n",
    "# Apply log1p transform to y_train\n",
    "y_train_log = np.log1p(y_train)\n",
    "\n",
    "# Train XGBoost regressor\n",
    "model = xgb.XGBRegressor(objective='reg:squarederror', random_state=42, n_jobs=-1)\n",
    "model.fit(X_train, y_train_log)\n",
    "\n",
    "# Predict and reverse log transform\n",
    "y_pred_log = model.predict(X_test)\n",
    "y_pred = np.expm1(y_pred_log)\n",
    "\n",
    "# Avoid division by zero\n",
    "y_test_safe = y_test.replace(0, 1e-5)\n",
    "\n",
    "# Calculate MAPE\n",
    "mape = mean_absolute_percentage_error(y_test_safe, y_pred)\n",
    "mape_scores.append(mape)\n",
    "\n",
    "print(\"Mean MAPE (XGBoost + Outliers removed from net area+income per acre+total land+effecitve usage value+productivity with elecvtricity):\", np.mean(mape_scores))\n"
   ]
  }
 ],
 "metadata": {
  "kernelspec": {
   "display_name": ".venv",
   "language": "python",
   "name": "python3"
  },
  "language_info": {
   "codemirror_mode": {
    "name": "ipython",
    "version": 3
   },
   "file_extension": ".py",
   "mimetype": "text/x-python",
   "name": "python",
   "nbconvert_exporter": "python",
   "pygments_lexer": "ipython3",
   "version": "3.13.3"
  }
 },
 "nbformat": 4,
 "nbformat_minor": 5
}
